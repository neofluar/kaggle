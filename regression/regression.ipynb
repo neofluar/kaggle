{
 "cells": [
  {
   "cell_type": "markdown",
   "id": "e1dc5ed9",
   "metadata": {},
   "source": [
    "## Regression Models"
   ]
  },
  {
   "cell_type": "code",
   "execution_count": 1,
   "id": "efa55b90",
   "metadata": {},
   "outputs": [],
   "source": [
    "import numpy as np\n",
    "import matplotlib.pyplot as plt"
   ]
  },
  {
   "cell_type": "markdown",
   "id": "15421720",
   "metadata": {},
   "source": [
    "### 1. Linear Regression"
   ]
  },
  {
   "cell_type": "markdown",
   "id": "06575802",
   "metadata": {},
   "source": [
    "There are 2 very different ways to train it:\n",
    "\n",
    "- Using a direct \"closed-form\" equation that directly computes the model parameters that best fit the model to the training set   (i.e., the model parameters that minimize the cost function over the training set)\n",
    "- Using an iterative optimization approach called *Gradien Descent* that gradually tweaks the model parameters to minimize the   cost function over the training set\n",
    "\n",
    "More generally, a linear model makes predictions by simply computing a weighted sum of the input features, plus a constant called the *bias term* (*intersept term*).\n"
   ]
  },
  {
   "cell_type": "markdown",
   "id": "cdd365a6",
   "metadata": {},
   "source": [
    "**The Normal Equation**"
   ]
  },
  {
   "cell_type": "markdown",
   "id": "ce2a8a3d",
   "metadata": {},
   "source": [
    "Generate some linear looking data to test this equation"
   ]
  },
  {
   "cell_type": "code",
   "execution_count": 2,
   "id": "8ca1530b",
   "metadata": {},
   "outputs": [],
   "source": [
    "x = 2 * np.random.rand(100, 1)\n",
    "y = 4 + 3 * x + np.random.randn(100, 1)"
   ]
  },
  {
   "cell_type": "markdown",
   "id": "6d67f98d",
   "metadata": {},
   "source": [
    "Transform `x` and use the normal equation to find the best parameters"
   ]
  },
  {
   "cell_type": "code",
   "execution_count": 3,
   "id": "8be0a559",
   "metadata": {},
   "outputs": [
    {
     "data": {
      "text/plain": [
       "array([[3.77926689],\n",
       "       [3.21163965]])"
      ]
     },
     "execution_count": 3,
     "metadata": {},
     "output_type": "execute_result"
    }
   ],
   "source": [
    "x_b = np.c_[np.ones((100, 1)), x]  # add x0 = 1 to each instance for the bias term\n",
    "\n",
    "theta_best = np.linalg.inv(x_b.T.dot(x_b)).dot(x_b.T).dot(y)\n",
    "theta_best"
   ]
  },
  {
   "cell_type": "markdown",
   "id": "25392f5a",
   "metadata": {},
   "source": [
    "Now we can make predictions using `theta_best`"
   ]
  },
  {
   "cell_type": "code",
   "execution_count": 4,
   "id": "90ca01b8",
   "metadata": {},
   "outputs": [
    {
     "data": {
      "text/plain": [
       "array([[ 3.77926689],\n",
       "       [10.20254618]])"
      ]
     },
     "execution_count": 4,
     "metadata": {},
     "output_type": "execute_result"
    }
   ],
   "source": [
    "x_new = np.array([[0], [2]])\n",
    "x_new_b = np.c_[np.ones((2, 1)), x_new]  # add x0 = 1 to each instance for the bias term\n",
    "\n",
    "y_predict = x_new_b.dot(theta_best)\n",
    "y_predict"
   ]
  },
  {
   "cell_type": "code",
   "execution_count": 5,
   "id": "0c542fa6",
   "metadata": {},
   "outputs": [
    {
     "data": {
      "image/png": "[encoded data removed]",
      "text/plain": [
       "<Figure size 640x480 with 1 Axes>"
      ]
     },
     "metadata": {},
     "output_type": "display_data"
    }
   ],
   "source": [
    "plt.plot(x, y, 'b.', label='Data')\n",
    "plt.plot(x_new, y_predict, 'r-', label='Predictions')\n",
    "plt.axis([0, 2, 0, 15]); plt.legend()\n",
    "plt.show()"
   ]
  },
  {
   "cell_type": "markdown",
   "id": "ad006921",
   "metadata": {},
   "source": [
    "Performing Linear Regression using `Scikit-learn` is simple"
   ]
  },
  {
   "cell_type": "code",
   "execution_count": 6,
   "id": "5de437f8",
   "metadata": {},
   "outputs": [
    {
     "data": {
      "text/plain": [
       "(array([3.77926689]), array([[3.21163965]]))"
      ]
     },
     "execution_count": 6,
     "metadata": {},
     "output_type": "execute_result"
    }
   ],
   "source": [
    "from sklearn.linear_model import LinearRegression\n",
    "\n",
    "lin_reg = LinearRegression()\n",
    "lin_reg.fit(x, y)  # no need to transform x\n",
    "\n",
    "lin_reg.intercept_, lin_reg.coef_"
   ]
  },
  {
   "cell_type": "code",
   "execution_count": 7,
   "id": "c555937c",
   "metadata": {},
   "outputs": [
    {
     "data": {
      "text/plain": [
       "array([[ 3.77926689],\n",
       "       [10.20254618]])"
      ]
     },
     "execution_count": 7,
     "metadata": {},
     "output_type": "execute_result"
    }
   ],
   "source": [
    "lin_reg.predict(x_new)"
   ]
  },
  {
   "cell_type": "markdown",
   "id": "02e9cb4f",
   "metadata": {},
   "source": [
    "The `LinearRegression` class is based on the `scipy.linalg.lstsq()` function"
   ]
  },
  {
   "cell_type": "code",
   "execution_count": 8,
   "id": "406db1e0",
   "metadata": {},
   "outputs": [
    {
     "data": {
      "text/plain": [
       "array([[3.77926689],\n",
       "       [3.21163965]])"
      ]
     },
     "execution_count": 8,
     "metadata": {},
     "output_type": "execute_result"
    }
   ],
   "source": [
    "theta_best_svd, residuals, rank, s = np.linalg.lstsq(x_b, y, rcond=1e-6)\n",
    "theta_best_svd"
   ]
  },
  {
   "cell_type": "markdown",
   "id": "fccaa56d",
   "metadata": {},
   "source": [
    "This function computes the *pseudoinverse* of X. You can compute it directly by"
   ]
  },
  {
   "cell_type": "code",
   "execution_count": 9,
   "id": "f5a51d4a",
   "metadata": {},
   "outputs": [
    {
     "data": {
      "text/plain": [
       "array([[3.77926689],\n",
       "       [3.21163965]])"
      ]
     },
     "execution_count": 9,
     "metadata": {},
     "output_type": "execute_result"
    }
   ],
   "source": [
    "np.linalg.pinv(x_b).dot(y)"
   ]
  },
  {
   "cell_type": "markdown",
   "id": "06f1b892",
   "metadata": {},
   "source": [
    "This approach based on *SVD decomposition* is more efficient than computing the Normal Equation, plus it handles edge cases nicely."
   ]
  },
  {
   "cell_type": "markdown",
   "id": "3dfd7508",
   "metadata": {},
   "source": [
    "### 2. Gradient Descent"
   ]
  },
  {
   "cell_type": "markdown",
   "id": "96202c3a",
   "metadata": {},
   "source": [
    "**Batch Gradient Descent**"
   ]
  },
  {
   "cell_type": "markdown",
   "id": "5f359173",
   "metadata": {},
   "source": [
    "A simple implementation"
   ]
  },
  {
   "cell_type": "code",
   "execution_count": 10,
   "id": "be7600da",
   "metadata": {},
   "outputs": [
    {
     "data": {
      "text/plain": [
       "array([[3.77926689],\n",
       "       [3.21163965]])"
      ]
     },
     "execution_count": 10,
     "metadata": {},
     "output_type": "execute_result"
    }
   ],
   "source": [
    "eta = 0.1  # learning rate\n",
    "n_iterations = 1000\n",
    "m = 100\n",
    "\n",
    "theta = np.random.randn(2, 1)  # random initialization\n",
    "\n",
    "for i in range(n_iterations):\n",
    "    gradients = 2/m * x_b.T.dot(x_b.dot(theta) - y)\n",
    "    theta -= eta * gradients\n",
    "\n",
    "theta"
   ]
  },
  {
   "cell_type": "markdown",
   "id": "319ef071",
   "metadata": {},
   "source": [
    "That's exactly the same as the Normal Equation found."
   ]
  },
  {
   "cell_type": "markdown",
   "id": "a60c3a61",
   "metadata": {},
   "source": [
    "**Stochastic Gradient Descent**"
   ]
  },
  {
   "cell_type": "markdown",
   "id": "a17fb63d",
   "metadata": {},
   "source": [
    "Randomness is good to escape from local minima, but bad because it means that the algorithm can never settle at the minimum. One solution is to gradually reduce the learning rate according to a *learning schedule*"
   ]
  },
  {
   "cell_type": "code",
   "execution_count": 11,
   "id": "13530337",
   "metadata": {},
   "outputs": [
    {
     "data": {
      "text/plain": [
       "array([[3.73484914],\n",
       "       [3.24938952]])"
      ]
     },
     "execution_count": 11,
     "metadata": {},
     "output_type": "execute_result"
    }
   ],
   "source": [
    "n_epochs = 50\n",
    "T0, T1 = 5, 50  # learning schedule hyperparameters\n",
    "\n",
    "def learning_schedule(t: float) -> float:\n",
    "    return T0 / (t + T1)\n",
    "\n",
    "theta = np. random.randn(2, 1)  # random initialization\n",
    "\n",
    "for epoch in range(n_epochs):\n",
    "    for i in range(m):\n",
    "        index = np.random.randint(m)\n",
    "        xi = x_b[index:index+1]\n",
    "        yi = y[index:index+1]\n",
    "        gradients = 2 * xi.T.dot(xi.dot(theta) - yi)\n",
    "        eta = learning_schedule(epoch * m + i)\n",
    "        theta -= eta * gradients\n",
    "\n",
    "theta"
   ]
  },
  {
   "cell_type": "markdown",
   "id": "978b3b58",
   "metadata": {},
   "source": [
    "Using `Scikit-learn`"
   ]
  },
  {
   "cell_type": "code",
   "execution_count": 12,
   "id": "a5dcbeaf",
   "metadata": {},
   "outputs": [
    {
     "data": {
      "text/plain": [
       "(array([3.79002698]), array([3.26041208]))"
      ]
     },
     "execution_count": 12,
     "metadata": {},
     "output_type": "execute_result"
    }
   ],
   "source": [
    "from sklearn.linear_model import SGDRegressor\n",
    "\n",
    "sgd_reg = SGDRegressor(max_iter=1000, tol=1e-3, penalty=None, eta0=1e-1)\n",
    "sgd_reg.fit(x, y.ravel())\n",
    "\n",
    "sgd_reg.intercept_, sgd_reg.coef_"
   ]
  },
  {
   "cell_type": "markdown",
   "id": "c53cb427",
   "metadata": {},
   "source": [
    "### 3. Polynomial Regression"
   ]
  },
  {
   "cell_type": "markdown",
   "id": "8dd91f5d",
   "metadata": {},
   "source": [
    "You can use a linear model to fit nonlinear data"
   ]
  },
  {
   "cell_type": "code",
   "execution_count": 13,
   "id": "9bccb194",
   "metadata": {},
   "outputs": [],
   "source": [
    "m = 100\n",
    "x = 6 * np.random.rand(m, 1) - 3\n",
    "y = 0.5 * x**2 + x + 2 + np.random.randn(m, 1)  # with Gaussian noise"
   ]
  },
  {
   "cell_type": "markdown",
   "id": "6b61ae12",
   "metadata": {},
   "source": [
    "Transform the training data, adding the square of each featur in the training set as a new feature"
   ]
  },
  {
   "cell_type": "code",
   "execution_count": 14,
   "id": "6c1e849a",
   "metadata": {},
   "outputs": [
    {
     "data": {
      "text/plain": [
       "(array([-2.97094089]), array([-2.97094089,  8.82648979]))"
      ]
     },
     "execution_count": 14,
     "metadata": {},
     "output_type": "execute_result"
    }
   ],
   "source": [
    "from sklearn.preprocessing import PolynomialFeatures\n",
    "\n",
    "poly_features = PolynomialFeatures(degree=2, include_bias=False)\n",
    "x_poly = poly_features.fit_transform(x)\n",
    "\n",
    "x[0], x_poly[0]"
   ]
  },
  {
   "cell_type": "markdown",
   "id": "cd193334",
   "metadata": {},
   "source": [
    "Now you can fit a `LinearRegression` model to this extended training data"
   ]
  },
  {
   "cell_type": "code",
   "execution_count": 15,
   "id": "599e328b",
   "metadata": {},
   "outputs": [
    {
     "data": {
      "text/plain": [
       "(array([1.79660036]), array([[1.02576828, 0.51742676]]))"
      ]
     },
     "execution_count": 15,
     "metadata": {},
     "output_type": "execute_result"
    }
   ],
   "source": [
    "lin_reg = LinearRegression()\n",
    "lin_reg.fit(x_poly, y)\n",
    "\n",
    "lin_reg.intercept_, lin_reg.coef_  # expected 2, 1, 0.5 "
   ]
  },
  {
   "cell_type": "code",
   "execution_count": 16,
   "id": "30ec98a2",
   "metadata": {},
   "outputs": [
    {
     "data": {
      "image/png": "[encoded data removed]",
      "text/plain": [
       "<Figure size 640x480 with 1 Axes>"
      ]
     },
     "metadata": {},
     "output_type": "display_data"
    }
   ],
   "source": [
    "plt.plot(x, y, 'b.', label='Data')\n",
    "\n",
    "t = np.linspace(-3, 3, num=50)\n",
    "THETA_0, (THETA_1, THETA_2) = lin_reg.intercept_, lin_reg.coef_[0]\n",
    "plt.plot(t,  THETA_0 + THETA_1 * t + THETA_2 * t**2, 'r-', label='Predictions')\n",
    "\n",
    "plt.axis([-3, 3, 0, 10]); plt.legend()\n",
    "plt.show()"
   ]
  },
  {
   "cell_type": "markdown",
   "id": "96af052e",
   "metadata": {},
   "source": [
    "`PolynomialFeatures` also adds combinations of features up to the given degree."
   ]
  },
  {
   "cell_type": "markdown",
   "id": "dd52774f",
   "metadata": {},
   "source": [
    "### 4. Learning Curve"
   ]
  },
  {
   "cell_type": "markdown",
   "id": "a06cd8da",
   "metadata": {},
   "source": [
    "These are plots of the model's performance on the training set and the validation set as a function of the training set size (or the training iteration). Usually the errors on the training data goes up until it reaches a plateau. As the model learns, the validation errors goes down."
   ]
  },
  {
   "cell_type": "code",
   "execution_count": 17,
   "id": "2bf0c8bc",
   "metadata": {},
   "outputs": [],
   "source": [
    "from sklearn.metrics import mean_squared_error\n",
    "from sklearn.model_selection import train_test_split\n",
    "\n",
    "def plot_learning_curves(model, x: np.ndarray, y: np.ndarray) -> None:\n",
    "    x_train, x_val, y_train, y_val = train_test_split(x, y, test_size=0.2)\n",
    "    \n",
    "    train_errors, val_errors = list(), list()\n",
    "    for m in range(1, len(x_train)):\n",
    "        model.fit(x_train[:m], y_train[:m])\n",
    "        y_train_predict = model.predict(x_train[:m])\n",
    "        y_val_predict = model.predict(x_val)\n",
    "        train_errors.append(mean_squared_error(y_train[:m], y_train_predict))\n",
    "        val_errors.append(mean_squared_error(y_val, y_val_predict))\n",
    "        \n",
    "    plt.plot(np.sqrt(train_errors), 'r-+', linewidth=2, label='train_error')\n",
    "    plt.plot(np.sqrt(val_errors), 'b-', linewidth=3, label='val_error')\n",
    "    plt.xlabel('Training set size'); plt.ylabel('RMSE')\n",
    "    plt.xlim(0, 80)"
   ]
  },
  {
   "cell_type": "code",
   "execution_count": 37,
   "id": "66c50c79",
   "metadata": {},
   "outputs": [
    {
     "data": {
      "image/png": "[encoded data removed]",
      "text/plain": [
       "<Figure size 640x480 with 1 Axes>"
      ]
     },
     "metadata": {},
     "output_type": "display_data"
    }
   ],
   "source": [
    "lin_reg = LinearRegression()\n",
    "plot_learning_curves(lin_reg, x, y)"
   ]
  },
  {
   "cell_type": "markdown",
   "id": "1964e37d",
   "metadata": {},
   "source": [
    "There is almost no gap between the curves. These lines are typical of a model that's *underfitting*. Adding new instances to the training set can not improve errors."
   ]
  },
  {
   "cell_type": "markdown",
   "id": "998436c7",
   "metadata": {},
   "source": [
    "Now let's look at the learning curves of a 5-th degree polinomial model on the same data"
   ]
  },
  {
   "cell_type": "code",
   "execution_count": 48,
   "id": "07a101fb",
   "metadata": {},
   "outputs": [
    {
     "data": {
      "image/png": "[encoded data removed]",
      "text/plain": [
       "<Figure size 640x480 with 1 Axes>"
      ]
     },
     "metadata": {},
     "output_type": "display_data"
    }
   ],
   "source": [
    "from sklearn.pipeline import Pipeline\n",
    "\n",
    "polynomial_regression = Pipeline([\n",
    "    ('poly_features', PolynomialFeatures(degree=5, include_bias=False)),\n",
    "    ('lin_reg', LinearRegression())\n",
    "])\n",
    "\n",
    "plot_learning_curves(polynomial_regression, x, y)"
   ]
  },
  {
   "cell_type": "markdown",
   "id": "e0bd8d20",
   "metadata": {},
   "source": [
    "These learning curves look a bit like the previous ones, but there are 2 very important differences:\n",
    "\n",
    "- The error on the training data is much lower\n",
    "- There is a bigger gap between the curves. This means that the model performs significantly better on the training data, which is a sign of an *overfitting* model. If you add more instances to train on the two curves would continue to get closer."
   ]
  },
  {
   "cell_type": "markdown",
   "id": "3e78cc9d",
   "metadata": {},
   "source": [
    "**The Bias/Variance Trade-off**\n",
    "\n",
    "Increasing a model's complexity will typically increase its variance and reduce its bias. And vise versa."
   ]
  },
  {
   "cell_type": "markdown",
   "id": "868e2c9a",
   "metadata": {},
   "source": [
    "### 5. Regularized Linear Models"
   ]
  },
  {
   "cell_type": "markdown",
   "id": "d525c376",
   "metadata": {},
   "source": [
    "For a linear model, regularization is typically achived by constraining the weights of the model."
   ]
  },
  {
   "cell_type": "code",
   "execution_count": 20,
   "id": "93b94964",
   "metadata": {},
   "outputs": [
    {
     "data": {
      "image/png": "[encoded data removed]",
      "text/plain": [
       "<Figure size 640x480 with 1 Axes>"
      ]
     },
     "metadata": {},
     "output_type": "display_data"
    }
   ],
   "source": [
    "x = 3 * np.random.rand(30, 1)\n",
    "y = 1 + x + np.random.randn(30, 1)\n",
    "\n",
    "plt.plot(x, y, 'b.')\n",
    "plt.xlim(0, 3); plt.ylim(0, 6); plt.show()"
   ]
  },
  {
   "cell_type": "markdown",
   "id": "027d3d3b",
   "metadata": {},
   "source": [
    "**Ridge Regression**"
   ]
  },
  {
   "cell_type": "markdown",
   "id": "bf089390",
   "metadata": {},
   "source": [
    "*Ridge Resression* is a regularized version of Linear Regression: a *regularization term* equal to half of the weighted sum of squared weights is added to the cost function.  \n",
    "\n",
    "Using a closed-form solution"
   ]
  },
  {
   "cell_type": "code",
   "execution_count": 21,
   "id": "259b579d",
   "metadata": {},
   "outputs": [
    {
     "data": {
      "text/plain": [
       "(array([0.26382509]), array([[1.14235432]]), array([[1.97735657]]))"
      ]
     },
     "execution_count": 21,
     "metadata": {},
     "output_type": "execute_result"
    }
   ],
   "source": [
    "from sklearn.linear_model import Ridge\n",
    "\n",
    "ridge_reg = Ridge(alpha=1, solver='cholesky')\n",
    "ridge_reg.fit(x, y)\n",
    "ridge_reg.intercept_, ridge_reg.coef_, ridge_reg.predict([[1.5]])"
   ]
  },
  {
   "cell_type": "markdown",
   "id": "2965bf79",
   "metadata": {},
   "source": [
    "Using SGD"
   ]
  },
  {
   "cell_type": "code",
   "execution_count": 22,
   "id": "227544f4",
   "metadata": {},
   "outputs": [
    {
     "data": {
      "text/plain": [
       "(array([0.43284578]), array([1.06118462]), array([2.02462272]))"
      ]
     },
     "execution_count": 22,
     "metadata": {},
     "output_type": "execute_result"
    }
   ],
   "source": [
    "sgd_reg = SGDRegressor(penalty='l2')\n",
    "sgd_reg.fit(x, y.ravel())\n",
    "sgd_reg.intercept_, sgd_reg.coef_, sgd_reg.predict([[1.5]])"
   ]
  },
  {
   "cell_type": "markdown",
   "id": "106179f1",
   "metadata": {},
   "source": [
    "**Lasso Regression**"
   ]
  },
  {
   "cell_type": "markdown",
   "id": "d46068dd",
   "metadata": {},
   "source": [
    "*Lasso Regression* is a regularized version of Linear Regression: a regularization term equal to weighted sum of weights is added to the cost function."
   ]
  },
  {
   "cell_type": "code",
   "execution_count": 23,
   "id": "cfcd4723",
   "metadata": {},
   "outputs": [
    {
     "data": {
      "text/plain": [
       "(array([0.38758119]), array([1.06724646]), array([1.98845088]))"
      ]
     },
     "execution_count": 23,
     "metadata": {},
     "output_type": "execute_result"
    }
   ],
   "source": [
    "from sklearn.linear_model import Lasso\n",
    "\n",
    "lasso_reg = Lasso(alpha=0.1)\n",
    "lasso_reg.fit(x, y)\n",
    "lasso_reg.intercept_, lasso_reg.coef_, lasso_reg.predict([[1.5]])"
   ]
  },
  {
   "cell_type": "code",
   "execution_count": 24,
   "id": "ac551713",
   "metadata": {},
   "outputs": [
    {
     "data": {
      "text/plain": [
       "(array([0.44137517]), array([1.05976641]), array([2.03102479]))"
      ]
     },
     "execution_count": 24,
     "metadata": {},
     "output_type": "execute_result"
    }
   ],
   "source": [
    "sgd_reg = SGDRegressor(penalty='l1')\n",
    "sgd_reg.fit(x, y.ravel())\n",
    "sgd_reg.intercept_, sgd_reg.coef_, sgd_reg.predict([[1.5]])"
   ]
  },
  {
   "cell_type": "markdown",
   "id": "5b0062ac",
   "metadata": {},
   "source": [
    "**Elastic Net**"
   ]
  },
  {
   "cell_type": "markdown",
   "id": "e92ef2d6",
   "metadata": {},
   "source": [
    "*Elastic Net* is a middle ground between RidgeR and LassoR. The regularization term is just a mix of Ridge and Lasso's terms, and you can control the mix ratio *r*: *r* * LassoTerm + 0.5 * (1 - *r*) * RidgeTerm"
   ]
  },
  {
   "cell_type": "code",
   "execution_count": 25,
   "id": "516bcf26",
   "metadata": {},
   "outputs": [
    {
     "data": {
      "text/plain": [
       "(array([0.39391687]), array([1.06340132]), array([1.98901886]))"
      ]
     },
     "execution_count": 25,
     "metadata": {},
     "output_type": "execute_result"
    }
   ],
   "source": [
    "from sklearn.linear_model import ElasticNet\n",
    "\n",
    "elastic_reg = ElasticNet(alpha=0.1, l1_ratio=0.5)\n",
    "elastic_reg.fit(x, y)\n",
    "elastic_reg.intercept_, elastic_reg.coef_, elastic_reg.predict([[1.5]])"
   ]
  },
  {
   "cell_type": "markdown",
   "id": "548e20be",
   "metadata": {},
   "source": [
    "**Early Sropping**"
   ]
  },
  {
   "cell_type": "markdown",
   "id": "1acccceb",
   "metadata": {},
   "source": [
    "A basic implementation"
   ]
  },
  {
   "cell_type": "code",
   "execution_count": 26,
   "id": "34979f93",
   "metadata": {},
   "outputs": [
    {
     "data": {
      "text/plain": [
       "(1.090193455501216, 39)"
      ]
     },
     "execution_count": 26,
     "metadata": {},
     "output_type": "execute_result"
    }
   ],
   "source": [
    "from sklearn.base import clone\n",
    "from sklearn.preprocessing import StandardScaler\n",
    "\n",
    "# prepare the data\n",
    "x = 6 * np.random.rand(m, 1) - 3\n",
    "y = 0.5 * x**2 + x + 2 + np.random.randn(m, 1)  # with Gaussian noise\n",
    "\n",
    "x_train, x_val, y_train, y_val = train_test_split(x, y, test_size=0.2)\n",
    "\n",
    "poly_scaler = Pipeline([\n",
    "    ('poly_features', PolynomialFeatures(degree=90, include_bias=False)),\n",
    "    ('std_scaler', StandardScaler())\n",
    "])\n",
    "x_train_poly_scaled = poly_scaler.fit_transform(x_train)\n",
    "x_val_poly_scaled = poly_scaler.fit_transform(x_val)\n",
    "\n",
    "# train the model\n",
    "sgd_reg = SGDRegressor(\n",
    "    max_iter=1, \n",
    "    tol=-np.infty, \n",
    "    warm_start=True, \n",
    "    penalty=None, \n",
    "    learning_rate='constant', \n",
    "    eta0=5e-4\n",
    ")\n",
    "\n",
    "min_val_error = float('inf')\n",
    "best_epoch, best_model = None, None\n",
    "\n",
    "for epoch in range(1000):\n",
    "    sgd_reg.fit(x_train_poly_scaled, y_train.ravel())  # continues where it left off\n",
    "    y_val_predict = sgd_reg.predict(x_val_poly_scaled)\n",
    "    val_error = mean_squared_error(y_val, y_val_predict)\n",
    "    if val_error < min_val_error:\n",
    "        min_val_error = val_error\n",
    "        best_epoch = epoch\n",
    "        best_model = clone(sgd_reg)\n",
    "\n",
    "min_val_error, best_epoch"
   ]
  },
  {
   "cell_type": "markdown",
   "id": "5658d6fd",
   "metadata": {},
   "source": [
    "### 6. Logistic Regression"
   ]
  },
  {
   "cell_type": "markdown",
   "id": "c0436bcc",
   "metadata": {},
   "source": [
    "*Logistic Regression* - a binary classifier with a threshold 0.5 that is commonly used to estimate probability that an instance belongs to a particular class. Just like a Linear Regression model, a Logistic Regression model computes a weighted sum of the input features (plus a bias term) and outputs the *logistic* of this result"
   ]
  },
  {
   "cell_type": "markdown",
   "id": "4a52296c",
   "metadata": {},
   "source": [
    "Let's build a classifier to detect the *Iris virginica* based only on the petal width feature"
   ]
  },
  {
   "cell_type": "code",
   "execution_count": 27,
   "id": "92d6bc9b",
   "metadata": {},
   "outputs": [
    {
     "data": {
      "text/plain": [
       "['data',\n",
       " 'target',\n",
       " 'frame',\n",
       " 'target_names',\n",
       " 'DESCR',\n",
       " 'feature_names',\n",
       " 'filename',\n",
       " 'data_module']"
      ]
     },
     "execution_count": 27,
     "metadata": {},
     "output_type": "execute_result"
    }
   ],
   "source": [
    "from sklearn import datasets\n",
    "\n",
    "iris = datasets.load_iris()\n",
    "list(iris.keys())"
   ]
  },
  {
   "cell_type": "code",
   "execution_count": 28,
   "id": "83416636",
   "metadata": {},
   "outputs": [],
   "source": [
    "x = iris['data'][:, 3:]  # petal width\n",
    "y = (iris['target'] == 2).astype(int)"
   ]
  },
  {
   "cell_type": "code",
   "execution_count": 29,
   "id": "a1b6a7fc",
   "metadata": {},
   "outputs": [
    {
     "data": {
      "text/html": [
       "<style>#sk-container-id-1 {color: black;background-color: white;}#sk-container-id-1 pre{padding: 0;}#sk-container-id-1 div.sk-toggleable {background-color: white;}#sk-container-id-1 label.sk-toggleable__label {cursor: pointer;display: block;width: 100%;margin-bottom: 0;padding: 0.3em;box-sizing: border-box;text-align: center;}#sk-container-id-1 label.sk-toggleable__label-arrow:before {content: \"▸\";float: left;margin-right: 0.25em;color: #696969;}#sk-container-id-1 label.sk-toggleable__label-arrow:hover:before {color: black;}#sk-container-id-1 div.sk-estimator:hover label.sk-toggleable__label-arrow:before {color: black;}#sk-container-id-1 div.sk-toggleable__content {max-height: 0;max-width: 0;overflow: hidden;text-align: left;background-color: #f0f8ff;}#sk-container-id-1 div.sk-toggleable__content pre {margin: 0.2em;color: black;border-radius: 0.25em;background-color: #f0f8ff;}#sk-container-id-1 input.sk-toggleable__control:checked~div.sk-toggleable__content {max-height: 200px;max-width: 100%;overflow: auto;}#sk-container-id-1 input.sk-toggleable__control:checked~label.sk-toggleable__label-arrow:before {content: \"▾\";}#sk-container-id-1 div.sk-estimator input.sk-toggleable__control:checked~label.sk-toggleable__label {background-color: #d4ebff;}#sk-container-id-1 div.sk-label input.sk-toggleable__control:checked~label.sk-toggleable__label {background-color: #d4ebff;}#sk-container-id-1 input.sk-hidden--visually {border: 0;clip: rect(1px 1px 1px 1px);clip: rect(1px, 1px, 1px, 1px);height: 1px;margin: -1px;overflow: hidden;padding: 0;position: absolute;width: 1px;}#sk-container-id-1 div.sk-estimator {font-family: monospace;background-color: #f0f8ff;border: 1px dotted black;border-radius: 0.25em;box-sizing: border-box;margin-bottom: 0.5em;}#sk-container-id-1 div.sk-estimator:hover {background-color: #d4ebff;}#sk-container-id-1 div.sk-parallel-item::after {content: \"\";width: 100%;border-bottom: 1px solid gray;flex-grow: 1;}#sk-container-id-1 div.sk-label:hover label.sk-toggleable__label {background-color: #d4ebff;}#sk-container-id-1 div.sk-serial::before {content: \"\";position: absolute;border-left: 1px solid gray;box-sizing: border-box;top: 0;bottom: 0;left: 50%;z-index: 0;}#sk-container-id-1 div.sk-serial {display: flex;flex-direction: column;align-items: center;background-color: white;padding-right: 0.2em;padding-left: 0.2em;position: relative;}#sk-container-id-1 div.sk-item {position: relative;z-index: 1;}#sk-container-id-1 div.sk-parallel {display: flex;align-items: stretch;justify-content: center;background-color: white;position: relative;}#sk-container-id-1 div.sk-item::before, #sk-container-id-1 div.sk-parallel-item::before {content: \"\";position: absolute;border-left: 1px solid gray;box-sizing: border-box;top: 0;bottom: 0;left: 50%;z-index: -1;}#sk-container-id-1 div.sk-parallel-item {display: flex;flex-direction: column;z-index: 1;position: relative;background-color: white;}#sk-container-id-1 div.sk-parallel-item:first-child::after {align-self: flex-end;width: 50%;}#sk-container-id-1 div.sk-parallel-item:last-child::after {align-self: flex-start;width: 50%;}#sk-container-id-1 div.sk-parallel-item:only-child::after {width: 0;}#sk-container-id-1 div.sk-dashed-wrapped {border: 1px dashed gray;margin: 0 0.4em 0.5em 0.4em;box-sizing: border-box;padding-bottom: 0.4em;background-color: white;}#sk-container-id-1 div.sk-label label {font-family: monospace;font-weight: bold;display: inline-block;line-height: 1.2em;}#sk-container-id-1 div.sk-label-container {text-align: center;}#sk-container-id-1 div.sk-container {/* jupyter's `normalize.less` sets `[hidden] { display: none; }` but bootstrap.min.css set `[hidden] { display: none !important; }` so we also need the `!important` here to be able to override the default hidden behavior on the sphinx rendered scikit-learn.org. See: https://github.com/scikit-learn/scikit-learn/issues/21755 */display: inline-block !important;position: relative;}#sk-container-id-1 div.sk-text-repr-fallback {display: none;}</style><div id=\"sk-container-id-1\" class=\"sk-top-container\"><div class=\"sk-text-repr-fallback\"><pre>LogisticRegression()</pre><b>In a Jupyter environment, please rerun this cell to show the HTML representation or trust the notebook. <br />On GitHub, the HTML representation is unable to render, please try loading this page with nbviewer.org.</b></div><div class=\"sk-container\" hidden><div class=\"sk-item\"><div class=\"sk-estimator sk-toggleable\"><input class=\"sk-toggleable__control sk-hidden--visually\" id=\"sk-estimator-id-1\" type=\"checkbox\" checked><label for=\"sk-estimator-id-1\" class=\"sk-toggleable__label sk-toggleable__label-arrow\">LogisticRegression</label><div class=\"sk-toggleable__content\"><pre>LogisticRegression()</pre></div></div></div></div></div>"
      ],
      "text/plain": [
       "LogisticRegression()"
      ]
     },
     "execution_count": 29,
     "metadata": {},
     "output_type": "execute_result"
    }
   ],
   "source": [
    "from sklearn.linear_model import LogisticRegression\n",
    "\n",
    "log_reg = LogisticRegression()\n",
    "log_reg.fit(x, y)"
   ]
  },
  {
   "cell_type": "markdown",
   "id": "7a8d5b06",
   "metadata": {},
   "source": [
    "`Scikit-learn` adds an L2 penalty by default."
   ]
  },
  {
   "cell_type": "code",
   "execution_count": 30,
   "id": "2ae999b7",
   "metadata": {},
   "outputs": [
    {
     "data": {
      "image/png": "[encoded data removed]",
      "text/plain": [
       "<Figure size 640x480 with 1 Axes>"
      ]
     },
     "metadata": {},
     "output_type": "display_data"
    }
   ],
   "source": [
    "x_new = np.linspace(0, 3, 1000).reshape(-1, 1)\n",
    "y_proba = log_reg.predict_proba(x_new)\n",
    "\n",
    "plt.plot(x_new, y_proba[:, 1], 'g-', label='Iris virginica')\n",
    "plt.plot(x_new, y_proba[:, 0], 'r-', label='Not Iris virginica')\n",
    "plt.plot([1.664, 1.664], [0, 1], 'k--', label='Descision Boundary')\n",
    "plt.ylim(0, 1); plt.xlim(0, 3)\n",
    "plt.xlabel('Petal width (cm)'); plt.ylabel('Probability')\n",
    "plt.legend(loc='upper left')\n",
    "plt.grid()\n",
    "plt.show()"
   ]
  },
  {
   "cell_type": "markdown",
   "id": "c420f995",
   "metadata": {},
   "source": [
    "There is a *descision boundary* at around 1.66 cm where both probabilities are equal to 50%"
   ]
  },
  {
   "cell_type": "code",
   "execution_count": 31,
   "id": "792563d3",
   "metadata": {},
   "outputs": [
    {
     "data": {
      "text/plain": [
       "array([1, 0])"
      ]
     },
     "execution_count": 31,
     "metadata": {},
     "output_type": "execute_result"
    }
   ],
   "source": [
    "log_reg.predict([[1.7], [1.5]])"
   ]
  },
  {
   "cell_type": "markdown",
   "id": "6968117d",
   "metadata": {},
   "source": [
    "### 7. Softmax Regression"
   ]
  },
  {
   "cell_type": "markdown",
   "id": "ff1c0872",
   "metadata": {},
   "source": [
    "We can switch a Logistic Regression model that uses the OvR strategy for multiclass classification by default to a Softmax Regression model"
   ]
  },
  {
   "cell_type": "code",
   "execution_count": 32,
   "id": "7baf8e7b",
   "metadata": {},
   "outputs": [],
   "source": [
    "x = iris['data'][:, (2,3)]  # petal length and width\n",
    "y = iris['target']"
   ]
  },
  {
   "cell_type": "code",
   "execution_count": 33,
   "id": "2122c53e",
   "metadata": {},
   "outputs": [
    {
     "data": {
      "text/html": [
       "<style>#sk-container-id-2 {color: black;background-color: white;}#sk-container-id-2 pre{padding: 0;}#sk-container-id-2 div.sk-toggleable {background-color: white;}#sk-container-id-2 label.sk-toggleable__label {cursor: pointer;display: block;width: 100%;margin-bottom: 0;padding: 0.3em;box-sizing: border-box;text-align: center;}#sk-container-id-2 label.sk-toggleable__label-arrow:before {content: \"▸\";float: left;margin-right: 0.25em;color: #696969;}#sk-container-id-2 label.sk-toggleable__label-arrow:hover:before {color: black;}#sk-container-id-2 div.sk-estimator:hover label.sk-toggleable__label-arrow:before {color: black;}#sk-container-id-2 div.sk-toggleable__content {max-height: 0;max-width: 0;overflow: hidden;text-align: left;background-color: #f0f8ff;}#sk-container-id-2 div.sk-toggleable__content pre {margin: 0.2em;color: black;border-radius: 0.25em;background-color: #f0f8ff;}#sk-container-id-2 input.sk-toggleable__control:checked~div.sk-toggleable__content {max-height: 200px;max-width: 100%;overflow: auto;}#sk-container-id-2 input.sk-toggleable__control:checked~label.sk-toggleable__label-arrow:before {content: \"▾\";}#sk-container-id-2 div.sk-estimator input.sk-toggleable__control:checked~label.sk-toggleable__label {background-color: #d4ebff;}#sk-container-id-2 div.sk-label input.sk-toggleable__control:checked~label.sk-toggleable__label {background-color: #d4ebff;}#sk-container-id-2 input.sk-hidden--visually {border: 0;clip: rect(1px 1px 1px 1px);clip: rect(1px, 1px, 1px, 1px);height: 1px;margin: -1px;overflow: hidden;padding: 0;position: absolute;width: 1px;}#sk-container-id-2 div.sk-estimator {font-family: monospace;background-color: #f0f8ff;border: 1px dotted black;border-radius: 0.25em;box-sizing: border-box;margin-bottom: 0.5em;}#sk-container-id-2 div.sk-estimator:hover {background-color: #d4ebff;}#sk-container-id-2 div.sk-parallel-item::after {content: \"\";width: 100%;border-bottom: 1px solid gray;flex-grow: 1;}#sk-container-id-2 div.sk-label:hover label.sk-toggleable__label {background-color: #d4ebff;}#sk-container-id-2 div.sk-serial::before {content: \"\";position: absolute;border-left: 1px solid gray;box-sizing: border-box;top: 0;bottom: 0;left: 50%;z-index: 0;}#sk-container-id-2 div.sk-serial {display: flex;flex-direction: column;align-items: center;background-color: white;padding-right: 0.2em;padding-left: 0.2em;position: relative;}#sk-container-id-2 div.sk-item {position: relative;z-index: 1;}#sk-container-id-2 div.sk-parallel {display: flex;align-items: stretch;justify-content: center;background-color: white;position: relative;}#sk-container-id-2 div.sk-item::before, #sk-container-id-2 div.sk-parallel-item::before {content: \"\";position: absolute;border-left: 1px solid gray;box-sizing: border-box;top: 0;bottom: 0;left: 50%;z-index: -1;}#sk-container-id-2 div.sk-parallel-item {display: flex;flex-direction: column;z-index: 1;position: relative;background-color: white;}#sk-container-id-2 div.sk-parallel-item:first-child::after {align-self: flex-end;width: 50%;}#sk-container-id-2 div.sk-parallel-item:last-child::after {align-self: flex-start;width: 50%;}#sk-container-id-2 div.sk-parallel-item:only-child::after {width: 0;}#sk-container-id-2 div.sk-dashed-wrapped {border: 1px dashed gray;margin: 0 0.4em 0.5em 0.4em;box-sizing: border-box;padding-bottom: 0.4em;background-color: white;}#sk-container-id-2 div.sk-label label {font-family: monospace;font-weight: bold;display: inline-block;line-height: 1.2em;}#sk-container-id-2 div.sk-label-container {text-align: center;}#sk-container-id-2 div.sk-container {/* jupyter's `normalize.less` sets `[hidden] { display: none; }` but bootstrap.min.css set `[hidden] { display: none !important; }` so we also need the `!important` here to be able to override the default hidden behavior on the sphinx rendered scikit-learn.org. See: https://github.com/scikit-learn/scikit-learn/issues/21755 */display: inline-block !important;position: relative;}#sk-container-id-2 div.sk-text-repr-fallback {display: none;}</style><div id=\"sk-container-id-2\" class=\"sk-top-container\"><div class=\"sk-text-repr-fallback\"><pre>LogisticRegression(C=10, multi_class=&#x27;multinomial&#x27;)</pre><b>In a Jupyter environment, please rerun this cell to show the HTML representation or trust the notebook. <br />On GitHub, the HTML representation is unable to render, please try loading this page with nbviewer.org.</b></div><div class=\"sk-container\" hidden><div class=\"sk-item\"><div class=\"sk-estimator sk-toggleable\"><input class=\"sk-toggleable__control sk-hidden--visually\" id=\"sk-estimator-id-2\" type=\"checkbox\" checked><label for=\"sk-estimator-id-2\" class=\"sk-toggleable__label sk-toggleable__label-arrow\">LogisticRegression</label><div class=\"sk-toggleable__content\"><pre>LogisticRegression(C=10, multi_class=&#x27;multinomial&#x27;)</pre></div></div></div></div></div>"
      ],
      "text/plain": [
       "LogisticRegression(C=10, multi_class='multinomial')"
      ]
     },
     "execution_count": 33,
     "metadata": {},
     "output_type": "execute_result"
    }
   ],
   "source": [
    "softmax_reg = LogisticRegression(multi_class='multinomial', solver='lbfgs', C=10)\n",
    "softmax_reg.fit(x, y)"
   ]
  },
  {
   "cell_type": "code",
   "execution_count": 34,
   "id": "e655788f",
   "metadata": {},
   "outputs": [
    {
     "data": {
      "text/plain": [
       "(array([2]), array([[6.38014896e-07, 5.74929995e-02, 9.42506362e-01]]))"
      ]
     },
     "execution_count": 34,
     "metadata": {},
     "output_type": "execute_result"
    }
   ],
   "source": [
    "i = [[5, 2]]\n",
    "softmax_reg.predict(i), softmax_reg.predict_proba(i)"
   ]
  }
 ],
 "metadata": {
  "kernelspec": {
   "display_name": "Python 3 (ipykernel)",
   "language": "python",
   "name": "python3"
  },
  "language_info": {
   "codemirror_mode": {
    "name": "ipython",
    "version": 3
   },
   "file_extension": ".py",
   "mimetype": "text/x-python",
   "name": "python",
   "nbconvert_exporter": "python",
   "pygments_lexer": "ipython3",
   "version": "3.8.6"
  }
 },
 "nbformat": 4,
 "nbformat_minor": 5
}
