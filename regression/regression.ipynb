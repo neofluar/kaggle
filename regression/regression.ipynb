{
 "cells": [
  {
   "cell_type": "markdown",
   "id": "e1dc5ed9",
   "metadata": {},
   "source": [
    "## Regression Models"
   ]
  },
  {
   "cell_type": "code",
   "execution_count": 1,
   "id": "efa55b90",
   "metadata": {},
   "outputs": [],
   "source": [
    "import numpy as np\n",
    "import matplotlib.pyplot as plt"
   ]
  },
  {
   "cell_type": "markdown",
   "id": "15421720",
   "metadata": {},
   "source": [
    "### 1. Linear Regression"
   ]
  },
  {
   "cell_type": "markdown",
   "id": "06575802",
   "metadata": {},
   "source": [
    "There are 2 very different ways to train it:\n",
    "\n",
    "- Using a direct \"closed-form\" equation that directly computes the model parameters that best fit the model to the training set   (i.e., the model parameters that minimize the cost function over the training set)\n",
    "- Using an iterative optimization approach called *Gradien Descent* that gradually tweaks the model parameters to minimize the   cost function over the training set\n",
    "\n",
    "More generally, a linear model makes predictions by simply computing a weighted sum of the input features, plus a constant called the *bias term* (*intersept term*).\n"
   ]
  },
  {
   "cell_type": "markdown",
   "id": "cdd365a6",
   "metadata": {},
   "source": [
    "**The Normal Equation**"
   ]
  },
  {
   "cell_type": "markdown",
   "id": "ce2a8a3d",
   "metadata": {},
   "source": [
    "Generate some linear looking data to test this equation"
   ]
  },
  {
   "cell_type": "code",
   "execution_count": 2,
   "id": "8ca1530b",
   "metadata": {},
   "outputs": [],
   "source": [
    "x = 2 * np.random.rand(100, 1)\n",
    "y = 4 + 3 * x + np.random.randn(100, 1)"
   ]
  },
  {
   "cell_type": "markdown",
   "id": "6d67f98d",
   "metadata": {},
   "source": [
    "Transform `x` and use the normal equation to find the best parameters"
   ]
  },
  {
   "cell_type": "code",
   "execution_count": 3,
   "id": "8be0a559",
   "metadata": {},
   "outputs": [
    {
     "data": {
      "text/plain": [
       "array([[3.90386283],\n",
       "       [3.08094816]])"
      ]
     },
     "execution_count": 3,
     "metadata": {},
     "output_type": "execute_result"
    }
   ],
   "source": [
    "x_b = np.c_[np.ones((100, 1)), x]  # add x0 = 1 to each instance for the bias term\n",
    "\n",
    "theta_best = np.linalg.inv(x_b.T.dot(x_b)).dot(x_b.T).dot(y)\n",
    "theta_best"
   ]
  },
  {
   "cell_type": "markdown",
   "id": "25392f5a",
   "metadata": {},
   "source": [
    "Now we can make predictions using `theta_best`"
   ]
  },
  {
   "cell_type": "code",
   "execution_count": 4,
   "id": "90ca01b8",
   "metadata": {},
   "outputs": [
    {
     "data": {
      "text/plain": [
       "array([[ 3.90386283],\n",
       "       [10.06575916]])"
      ]
     },
     "execution_count": 4,
     "metadata": {},
     "output_type": "execute_result"
    }
   ],
   "source": [
    "x_new = np.array([[0], [2]])\n",
    "x_new_b = np.c_[np.ones((2, 1)), x_new]  # add x0 = 1 to each instance for the bias term\n",
    "\n",
    "y_predict = x_new_b.dot(theta_best)\n",
    "y_predict"
   ]
  },
  {
   "cell_type": "code",
   "execution_count": 5,
   "id": "0c542fa6",
   "metadata": {},
   "outputs": [
    {
     "data": {
      "image/png": "[encoded data removed]",
      "text/plain": [
       "<Figure size 640x480 with 1 Axes>"
      ]
     },
     "metadata": {},
     "output_type": "display_data"
    }
   ],
   "source": [
    "plt.plot(x, y, 'b.', label='Data')\n",
    "plt.plot(x_new, y_predict, 'r-', label='Predictions')\n",
    "plt.axis([0, 2, 0, 15]); plt.legend()\n",
    "plt.show()"
   ]
  },
  {
   "cell_type": "markdown",
   "id": "ad006921",
   "metadata": {},
   "source": [
    "Performing Linear Regression using `Scikit-learn` is simple"
   ]
  },
  {
   "cell_type": "code",
   "execution_count": 6,
   "id": "5de437f8",
   "metadata": {},
   "outputs": [
    {
     "data": {
      "text/plain": [
       "(array([3.90386283]), array([[3.08094816]]))"
      ]
     },
     "execution_count": 6,
     "metadata": {},
     "output_type": "execute_result"
    }
   ],
   "source": [
    "from sklearn.linear_model import LinearRegression\n",
    "\n",
    "lin_reg = LinearRegression()\n",
    "lin_reg.fit(x, y)  # no need to transform x\n",
    "\n",
    "lin_reg.intercept_, lin_reg.coef_"
   ]
  },
  {
   "cell_type": "code",
   "execution_count": 7,
   "id": "c555937c",
   "metadata": {},
   "outputs": [
    {
     "data": {
      "text/plain": [
       "array([[ 3.90386283],\n",
       "       [10.06575916]])"
      ]
     },
     "execution_count": 7,
     "metadata": {},
     "output_type": "execute_result"
    }
   ],
   "source": [
    "lin_reg.predict(x_new)"
   ]
  },
  {
   "cell_type": "markdown",
   "id": "02e9cb4f",
   "metadata": {},
   "source": [
    "The `LinearRegression` class is based on the `scipy.linalg.lstsq()` function"
   ]
  },
  {
   "cell_type": "code",
   "execution_count": 8,
   "id": "406db1e0",
   "metadata": {},
   "outputs": [
    {
     "data": {
      "text/plain": [
       "array([[3.90386283],\n",
       "       [3.08094816]])"
      ]
     },
     "execution_count": 8,
     "metadata": {},
     "output_type": "execute_result"
    }
   ],
   "source": [
    "theta_best_svd, residuals, rank, s = np.linalg.lstsq(x_b, y, rcond=1e-6)\n",
    "theta_best_svd"
   ]
  },
  {
   "cell_type": "markdown",
   "id": "fccaa56d",
   "metadata": {},
   "source": [
    "This function computes the *pseudoinverse* of X. You can compute it directly by"
   ]
  },
  {
   "cell_type": "code",
   "execution_count": 9,
   "id": "f5a51d4a",
   "metadata": {},
   "outputs": [
    {
     "data": {
      "text/plain": [
       "array([[3.90386283],\n",
       "       [3.08094816]])"
      ]
     },
     "execution_count": 9,
     "metadata": {},
     "output_type": "execute_result"
    }
   ],
   "source": [
    "np.linalg.pinv(x_b).dot(y)"
   ]
  },
  {
   "cell_type": "markdown",
   "id": "06f1b892",
   "metadata": {},
   "source": [
    "This approach based on *SVD decomposition* is more efficient than computing the Normal Equation, plus it handles edge cases nicely."
   ]
  },
  {
   "cell_type": "markdown",
   "id": "3dfd7508",
   "metadata": {},
   "source": [
    "### 2. Gradient Descent"
   ]
  },
  {
   "cell_type": "markdown",
   "id": "96202c3a",
   "metadata": {},
   "source": [
    "**Batch Gradient Descent**"
   ]
  },
  {
   "cell_type": "markdown",
   "id": "5f359173",
   "metadata": {},
   "source": [
    "A simple implementation"
   ]
  },
  {
   "cell_type": "code",
   "execution_count": 10,
   "id": "be7600da",
   "metadata": {},
   "outputs": [
    {
     "data": {
      "text/plain": [
       "array([[3.90386283],\n",
       "       [3.08094816]])"
      ]
     },
     "execution_count": 10,
     "metadata": {},
     "output_type": "execute_result"
    }
   ],
   "source": [
    "eta = 0.1  # learning rate\n",
    "n_iterations = 1000\n",
    "m = 100\n",
    "\n",
    "theta = np.random.randn(2, 1)  # random initialization\n",
    "\n",
    "for i in range(n_iterations):\n",
    "    gradients = 2/m * x_b.T.dot(x_b.dot(theta) - y)\n",
    "    theta -= eta * gradients\n",
    "\n",
    "theta"
   ]
  },
  {
   "cell_type": "markdown",
   "id": "319ef071",
   "metadata": {},
   "source": [
    "That's exactly the same as the Normal Equation found."
   ]
  },
  {
   "cell_type": "markdown",
   "id": "a60c3a61",
   "metadata": {},
   "source": [
    "**Stochastic Gradient Descent**"
   ]
  },
  {
   "cell_type": "markdown",
   "id": "a17fb63d",
   "metadata": {},
   "source": [
    "Randomness is good to escape from local minima, but bad because it means that the algorithm can never settle at the minimum. One solution is to gradually reduce the learning rate according to a *learning schedule*"
   ]
  },
  {
   "cell_type": "code",
   "execution_count": 11,
   "id": "13530337",
   "metadata": {},
   "outputs": [
    {
     "data": {
      "text/plain": [
       "array([[3.92918409],\n",
       "       [3.11588106]])"
      ]
     },
     "execution_count": 11,
     "metadata": {},
     "output_type": "execute_result"
    }
   ],
   "source": [
    "n_epochs = 50\n",
    "T0, T1 = 5, 50  # learning schedule hyperparameters\n",
    "\n",
    "def learning_schedule(t: float) -> float:\n",
    "    return T0 / (t + T1)\n",
    "\n",
    "theta = np. random.randn(2, 1)  # random initialization\n",
    "\n",
    "for epoch in range(n_epochs):\n",
    "    for i in range(m):\n",
    "        index = np.random.randint(m)\n",
    "        xi = x_b[index:index+1]\n",
    "        yi = y[index:index+1]\n",
    "        gradients = 2 * xi.T.dot(xi.dot(theta) - yi)\n",
    "        eta = learning_schedule(epoch * m + i)\n",
    "        theta -= eta * gradients\n",
    "\n",
    "theta"
   ]
  },
  {
   "cell_type": "markdown",
   "id": "978b3b58",
   "metadata": {},
   "source": [
    "Using `Scikit-learn`"
   ]
  },
  {
   "cell_type": "code",
   "execution_count": 12,
   "id": "a5dcbeaf",
   "metadata": {},
   "outputs": [
    {
     "data": {
      "text/plain": [
       "(array([3.86566561]), array([3.09481701]))"
      ]
     },
     "execution_count": 12,
     "metadata": {},
     "output_type": "execute_result"
    }
   ],
   "source": [
    "from sklearn.linear_model import SGDRegressor\n",
    "\n",
    "sgd_reg = SGDRegressor(max_iter=1000, tol=1e-3, penalty=None, eta0=1e-1)\n",
    "sgd_reg.fit(x, y.ravel())\n",
    "\n",
    "sgd_reg.intercept_, sgd_reg.coef_"
   ]
  },
  {
   "cell_type": "markdown",
   "id": "c53cb427",
   "metadata": {},
   "source": [
    "### 3. Polynomial Regression"
   ]
  },
  {
   "cell_type": "markdown",
   "id": "8dd91f5d",
   "metadata": {},
   "source": [
    "You can use a linear model to fit nonlinear data"
   ]
  },
  {
   "cell_type": "code",
   "execution_count": 13,
   "id": "9bccb194",
   "metadata": {},
   "outputs": [],
   "source": [
    "m = 100\n",
    "x = 6 * np.random.rand(m, 1) - 3\n",
    "y = 0.5 * x**2 + x + 2 + np.random.randn(m, 1)  # with Gaussian noise"
   ]
  },
  {
   "cell_type": "markdown",
   "id": "6b61ae12",
   "metadata": {},
   "source": [
    "Transform the training data, adding the square of each featur in the training set as a new feature"
   ]
  },
  {
   "cell_type": "code",
   "execution_count": 14,
   "id": "6c1e849a",
   "metadata": {},
   "outputs": [
    {
     "data": {
      "text/plain": [
       "(array([-0.1211587]), array([-0.1211587 ,  0.01467943]))"
      ]
     },
     "execution_count": 14,
     "metadata": {},
     "output_type": "execute_result"
    }
   ],
   "source": [
    "from sklearn.preprocessing import PolynomialFeatures\n",
    "\n",
    "poly_features = PolynomialFeatures(degree=2, include_bias=False)\n",
    "x_poly = poly_features.fit_transform(x)\n",
    "\n",
    "x[0], x_poly[0]"
   ]
  },
  {
   "cell_type": "markdown",
   "id": "cd193334",
   "metadata": {},
   "source": [
    "Now you can fit a `LinearRegression` model to this extended training data"
   ]
  },
  {
   "cell_type": "code",
   "execution_count": 15,
   "id": "599e328b",
   "metadata": {},
   "outputs": [
    {
     "data": {
      "text/plain": [
       "(array([1.95290208]), array([[0.89785212, 0.54357726]]))"
      ]
     },
     "execution_count": 15,
     "metadata": {},
     "output_type": "execute_result"
    }
   ],
   "source": [
    "lin_reg = LinearRegression()\n",
    "lin_reg.fit(x_poly, y)\n",
    "\n",
    "lin_reg.intercept_, lin_reg.coef_  # expected 2, 1, 0.5 "
   ]
  },
  {
   "cell_type": "code",
   "execution_count": 16,
   "id": "30ec98a2",
   "metadata": {},
   "outputs": [
    {
     "data": {
      "image/png": "[encoded data removed]",
      "text/plain": [
       "<Figure size 640x480 with 1 Axes>"
      ]
     },
     "metadata": {},
     "output_type": "display_data"
    }
   ],
   "source": [
    "plt.plot(x, y, 'b.', label='Data')\n",
    "\n",
    "t = np.linspace(-3, 3, num=50)\n",
    "THETA_0, (THETA_1, THETA_2) = lin_reg.intercept_, lin_reg.coef_[0]\n",
    "plt.plot(t,  THETA_0 + THETA_1 * t + THETA_2 * t**2, 'r-', label='Predictions')\n",
    "\n",
    "plt.axis([-3, 3, 0, 10]); plt.legend()\n",
    "plt.show()"
   ]
  },
  {
   "cell_type": "markdown",
   "id": "96af052e",
   "metadata": {},
   "source": [
    "`PolynomialFeatures` also adds combinations of features up to the given degree."
   ]
  },
  {
   "cell_type": "markdown",
   "id": "dd52774f",
   "metadata": {},
   "source": [
    "### 4. Learning Curve"
   ]
  },
  {
   "cell_type": "markdown",
   "id": "a06cd8da",
   "metadata": {},
   "source": [
    "These are plots of the model's performance on the training set and the validation set as a function of the training set size (or the training iteration). Usually the errors on the training data goes up until it reaches a plateau. As the model learns, the validation errors goes down."
   ]
  },
  {
   "cell_type": "code",
   "execution_count": 17,
   "id": "2bf0c8bc",
   "metadata": {},
   "outputs": [],
   "source": [
    "from sklearn.metrics import mean_squared_error\n",
    "from sklearn.model_selection import train_test_split\n",
    "\n",
    "def plot_learning_curves(model, x: np.ndarray, y: np.ndarray) -> None:\n",
    "    x_train, x_val, y_train, y_val = train_test_split(x, y, test_size=0.2)\n",
    "    \n",
    "    train_errors, val_errors = list(), list()\n",
    "    for m in range(1, len(x_train)):\n",
    "        model.fit(x_train[:m], y_train[:m])\n",
    "        y_train_predict = model.predict(x_train[:m])\n",
    "        y_val_predict = model.predict(x_val)\n",
    "        train_errors.append(mean_squared_error(y_train[:m], y_train_predict))\n",
    "        val_errors.append(mean_squared_error(y_val, y_val_predict))\n",
    "        \n",
    "    plt.plot(np.sqrt(train_errors), 'r-+', linewidth=2, label='train_error')\n",
    "    plt.plot(np.sqrt(val_errors), 'b-', linewidth=3, label='val_error')\n",
    "    plt.xlim(0, 80)"
   ]
  },
  {
   "cell_type": "code",
   "execution_count": 26,
   "id": "66c50c79",
   "metadata": {},
   "outputs": [
    {
     "data": {
      "image/png": "[encoded data removed]",
      "text/plain": [
       "<Figure size 640x480 with 1 Axes>"
      ]
     },
     "metadata": {},
     "output_type": "display_data"
    }
   ],
   "source": [
    "lin_reg = LinearRegression()\n",
    "plot_learning_curves(lin_reg, x, y)"
   ]
  },
  {
   "cell_type": "markdown",
   "id": "1964e37d",
   "metadata": {},
   "source": [
    "There is almost no gap between the curves. These lines are typical of a model that's *underfitting*. Adding new instances to the training set can not improve errors."
   ]
  },
  {
   "cell_type": "markdown",
   "id": "998436c7",
   "metadata": {},
   "source": [
    "Now let's look at the learning curves of a 5-th degree polinomial model on the same data"
   ]
  },
  {
   "cell_type": "code",
   "execution_count": 31,
   "id": "07a101fb",
   "metadata": {},
   "outputs": [
    {
     "data": {
      "image/png": "[encoded data removed]",
      "text/plain": [
       "<Figure size 640x480 with 1 Axes>"
      ]
     },
     "metadata": {},
     "output_type": "display_data"
    }
   ],
   "source": [
    "from sklearn.pipeline import Pipeline\n",
    "\n",
    "polynomial_regression = Pipeline([\n",
    "    ('poly_features', PolynomialFeatures(degree=5, include_bias=False)),\n",
    "    ('lin_reg', LinearRegression())\n",
    "])\n",
    "\n",
    "plot_learning_curves(polynomial_regression, x, y)"
   ]
  },
  {
   "cell_type": "markdown",
   "id": "e0bd8d20",
   "metadata": {},
   "source": [
    "These learning curves look a bit like the previous ones, but there are 2 very important differences:\n",
    "\n",
    "- The error on the training data is much lower\n",
    "- There is a bigger gap between the curves. This means that the model performs significantly better on the training data, which is a sign of an *overfitting* model. If you add more instances to train on the two curves would continue to get closer."
   ]
  },
  {
   "cell_type": "markdown",
   "id": "3e78cc9d",
   "metadata": {},
   "source": [
    "**The Bias/Variance Trade-off**\n",
    "\n",
    "Increasing a model's complexity will typically increase its variance and reduce its bias. And vise versa."
   ]
  },
  {
   "cell_type": "markdown",
   "id": "868e2c9a",
   "metadata": {},
   "source": [
    "### 5. Regularized Linear Models"
   ]
  }
 ],
 "metadata": {
  "kernelspec": {
   "display_name": "Python 3 (ipykernel)",
   "language": "python",
   "name": "python3"
  },
  "language_info": {
   "codemirror_mode": {
    "name": "ipython",
    "version": 3
   },
   "file_extension": ".py",
   "mimetype": "text/x-python",
   "name": "python",
   "nbconvert_exporter": "python",
   "pygments_lexer": "ipython3",
   "version": "3.8.6"
  }
 },
 "nbformat": 4,
 "nbformat_minor": 5
}
