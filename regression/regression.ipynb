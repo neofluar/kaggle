{
 "cells": [
  {
   "cell_type": "markdown",
   "id": "2d99304b",
   "metadata": {},
   "source": [
    "## Regression Models"
   ]
  },
  {
   "cell_type": "code",
   "execution_count": 5,
   "id": "0d86ba82",
   "metadata": {},
   "outputs": [],
   "source": [
    "import numpy as np\n",
    "import matplotlib.pyplot as plt"
   ]
  },
  {
   "cell_type": "markdown",
   "id": "38f425ef",
   "metadata": {},
   "source": [
    "### 1. Linear Regression"
   ]
  },
  {
   "cell_type": "markdown",
   "id": "0252b15b",
   "metadata": {},
   "source": [
    "There are 2 very different ways to train it:\n",
    "\n",
    "- Using a direct \"closed-form\" equation that directly computes the model parameters that best fit the model to the training set   (i.e., the model parameters that minimize the cost function over the training set)\n",
    "- Using an iterative optimization approach called *Gradien Descent* that gradually tweaks the model parameters to minimize the   cost function over the training set\n",
    "\n",
    "More generally, a linear model makes predictions by simply computing a weighted sum of the input features, plus a constant called the *bias term* (*intersept term*).\n"
   ]
  },
  {
   "cell_type": "markdown",
   "id": "262a450b",
   "metadata": {},
   "source": [
    "**The Normal Equation**"
   ]
  },
  {
   "cell_type": "markdown",
   "id": "16271e6f",
   "metadata": {},
   "source": [
    "Generate some linear looking data to test this equation"
   ]
  },
  {
   "cell_type": "code",
   "execution_count": 8,
   "id": "4bff6735",
   "metadata": {},
   "outputs": [],
   "source": [
    "x = 2 * np.random.rand(100, 1)\n",
    "y = 4 + 3 * x + np.random.randn(100, 1)"
   ]
  },
  {
   "cell_type": "markdown",
   "id": "f8a60799",
   "metadata": {},
   "source": [
    "Transform `x` and use the normal equation to find the best parameters"
   ]
  },
  {
   "cell_type": "code",
   "execution_count": 13,
   "id": "2cabba7c",
   "metadata": {},
   "outputs": [
    {
     "data": {
      "text/plain": [
       "array([[3.80650669],\n",
       "       [3.18502625]])"
      ]
     },
     "execution_count": 13,
     "metadata": {},
     "output_type": "execute_result"
    }
   ],
   "source": [
    "x_b = np.c_[np.ones((100, 1)), x]  # add x0 = 1 to each instance for the bias term\n",
    "\n",
    "theta_best = np.linalg.inv(x_b.T.dot(x_b)).dot(x_b.T).dot(y)\n",
    "theta_best"
   ]
  },
  {
   "cell_type": "markdown",
   "id": "2aad17ed",
   "metadata": {},
   "source": [
    "Now we can make predictions using `theta_best`"
   ]
  },
  {
   "cell_type": "code",
   "execution_count": 14,
   "id": "1463b7d6",
   "metadata": {},
   "outputs": [
    {
     "data": {
      "text/plain": [
       "array([[ 3.80650669],\n",
       "       [10.1765592 ]])"
      ]
     },
     "execution_count": 14,
     "metadata": {},
     "output_type": "execute_result"
    }
   ],
   "source": [
    "x_new = np.array([[0], [2]])\n",
    "x_new_b = np.c_[np.ones((2, 1)), x_new]  # add x0 = 1 to each instance for the bias term\n",
    "\n",
    "y_predict = x_new_b.dot(theta_best)\n",
    "y_predict"
   ]
  },
  {
   "cell_type": "code",
   "execution_count": 16,
   "id": "7ad2eb60",
   "metadata": {},
   "outputs": [
    {
     "data": {
      "image/png": "[encoded data removed]",
      "text/plain": [
       "<Figure size 640x480 with 1 Axes>"
      ]
     },
     "metadata": {},
     "output_type": "display_data"
    }
   ],
   "source": [
    "plt.plot(x, y, 'b.', label='Data')\n",
    "plt.plot(x_new, y_predict, 'r-', label='Predictions')\n",
    "plt.axis([0, 2, 0, 15]); plt.legend()\n",
    "plt.show()"
   ]
  },
  {
   "cell_type": "markdown",
   "id": "4f1f4bc0",
   "metadata": {},
   "source": [
    "Performing Linear Regression using `Scikit-learn` is simple"
   ]
  },
  {
   "cell_type": "code",
   "execution_count": 17,
   "id": "ad349c5d",
   "metadata": {},
   "outputs": [
    {
     "data": {
      "text/plain": [
       "(array([3.80650669]), array([[3.18502625]]))"
      ]
     },
     "execution_count": 17,
     "metadata": {},
     "output_type": "execute_result"
    }
   ],
   "source": [
    "from sklearn.linear_model import LinearRegression\n",
    "\n",
    "lin_reg = LinearRegression()\n",
    "lin_reg.fit(x, y)  # no need to transform x\n",
    "\n",
    "lin_reg.intercept_, lin_reg.coef_"
   ]
  },
  {
   "cell_type": "code",
   "execution_count": 18,
   "id": "2049b4ce",
   "metadata": {},
   "outputs": [
    {
     "data": {
      "text/plain": [
       "array([[ 3.80650669],\n",
       "       [10.1765592 ]])"
      ]
     },
     "execution_count": 18,
     "metadata": {},
     "output_type": "execute_result"
    }
   ],
   "source": [
    "lin_reg.predict(x_new)"
   ]
  },
  {
   "cell_type": "markdown",
   "id": "3efd38a9",
   "metadata": {},
   "source": [
    "The `LinearRegression` class is based on the `scipy.linalg.lstsq()` function"
   ]
  },
  {
   "cell_type": "code",
   "execution_count": 19,
   "id": "2351c8fa",
   "metadata": {},
   "outputs": [
    {
     "data": {
      "text/plain": [
       "array([[3.80650669],\n",
       "       [3.18502625]])"
      ]
     },
     "execution_count": 19,
     "metadata": {},
     "output_type": "execute_result"
    }
   ],
   "source": [
    "theta_best_svd, residuals, rank, s = np.linalg.lstsq(x_b, y, rcond=1e-6)\n",
    "theta_best_svd"
   ]
  },
  {
   "cell_type": "markdown",
   "id": "14cdb32c",
   "metadata": {},
   "source": [
    "This function computes the *pseudoinverse* of X. You can compute it directly by"
   ]
  },
  {
   "cell_type": "code",
   "execution_count": 20,
   "id": "76b97811",
   "metadata": {},
   "outputs": [
    {
     "data": {
      "text/plain": [
       "array([[3.80650669],\n",
       "       [3.18502625]])"
      ]
     },
     "execution_count": 20,
     "metadata": {},
     "output_type": "execute_result"
    }
   ],
   "source": [
    "np.linalg.pinv(x_b).dot(y)"
   ]
  },
  {
   "cell_type": "markdown",
   "id": "3b49dd6e",
   "metadata": {},
   "source": [
    "This approach based on *SVD decomposition* is more efficient than computing the Normal Equation, plus it handles edge cases nicely."
   ]
  }
 ],
 "metadata": {
  "kernelspec": {
   "display_name": "Python 3 (ipykernel)",
   "language": "python",
   "name": "python3"
  },
  "language_info": {
   "codemirror_mode": {
    "name": "ipython",
    "version": 3
   },
   "file_extension": ".py",
   "mimetype": "text/x-python",
   "name": "python",
   "nbconvert_exporter": "python",
   "pygments_lexer": "ipython3",
   "version": "3.8.6"
  }
 },
 "nbformat": 4,
 "nbformat_minor": 5
}
