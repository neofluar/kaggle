{
 "cells": [
  {
   "cell_type": "markdown",
   "id": "e1dc5ed9",
   "metadata": {},
   "source": [
    "## Regression Models"
   ]
  },
  {
   "cell_type": "code",
   "execution_count": 22,
   "id": "efa55b90",
   "metadata": {},
   "outputs": [],
   "source": [
    "import numpy as np\n",
    "import matplotlib.pyplot as plt"
   ]
  },
  {
   "cell_type": "markdown",
   "id": "15421720",
   "metadata": {},
   "source": [
    "### 1. Linear Regression"
   ]
  },
  {
   "cell_type": "markdown",
   "id": "06575802",
   "metadata": {},
   "source": [
    "There are 2 very different ways to train it:\n",
    "\n",
    "- Using a direct \"closed-form\" equation that directly computes the model parameters that best fit the model to the training set   (i.e., the model parameters that minimize the cost function over the training set)\n",
    "- Using an iterative optimization approach called *Gradien Descent* that gradually tweaks the model parameters to minimize the   cost function over the training set\n",
    "\n",
    "More generally, a linear model makes predictions by simply computing a weighted sum of the input features, plus a constant called the *bias term* (*intersept term*).\n"
   ]
  },
  {
   "cell_type": "markdown",
   "id": "cdd365a6",
   "metadata": {},
   "source": [
    "**The Normal Equation**"
   ]
  },
  {
   "cell_type": "markdown",
   "id": "ce2a8a3d",
   "metadata": {},
   "source": [
    "Generate some linear looking data to test this equation"
   ]
  },
  {
   "cell_type": "code",
   "execution_count": 23,
   "id": "8ca1530b",
   "metadata": {},
   "outputs": [],
   "source": [
    "x = 2 * np.random.rand(100, 1)\n",
    "y = 4 + 3 * x + np.random.randn(100, 1)"
   ]
  },
  {
   "cell_type": "markdown",
   "id": "6d67f98d",
   "metadata": {},
   "source": [
    "Transform `x` and use the normal equation to find the best parameters"
   ]
  },
  {
   "cell_type": "code",
   "execution_count": 24,
   "id": "8be0a559",
   "metadata": {},
   "outputs": [
    {
     "data": {
      "text/plain": [
       "array([[3.69000636],\n",
       "       [3.19880542]])"
      ]
     },
     "execution_count": 24,
     "metadata": {},
     "output_type": "execute_result"
    }
   ],
   "source": [
    "x_b = np.c_[np.ones((100, 1)), x]  # add x0 = 1 to each instance for the bias term\n",
    "\n",
    "theta_best = np.linalg.inv(x_b.T.dot(x_b)).dot(x_b.T).dot(y)\n",
    "theta_best"
   ]
  },
  {
   "cell_type": "markdown",
   "id": "25392f5a",
   "metadata": {},
   "source": [
    "Now we can make predictions using `theta_best`"
   ]
  },
  {
   "cell_type": "code",
   "execution_count": 25,
   "id": "90ca01b8",
   "metadata": {},
   "outputs": [
    {
     "data": {
      "text/plain": [
       "array([[ 3.69000636],\n",
       "       [10.0876172 ]])"
      ]
     },
     "execution_count": 25,
     "metadata": {},
     "output_type": "execute_result"
    }
   ],
   "source": [
    "x_new = np.array([[0], [2]])\n",
    "x_new_b = np.c_[np.ones((2, 1)), x_new]  # add x0 = 1 to each instance for the bias term\n",
    "\n",
    "y_predict = x_new_b.dot(theta_best)\n",
    "y_predict"
   ]
  },
  {
   "cell_type": "code",
   "execution_count": 26,
   "id": "0c542fa6",
   "metadata": {},
   "outputs": [
    {
     "data": {
      "image/png": "[encoded data removed]",
      "text/plain": [
       "<Figure size 640x480 with 1 Axes>"
      ]
     },
     "metadata": {},
     "output_type": "display_data"
    }
   ],
   "source": [
    "plt.plot(x, y, 'b.', label='Data')\n",
    "plt.plot(x_new, y_predict, 'r-', label='Predictions')\n",
    "plt.axis([0, 2, 0, 15]); plt.legend()\n",
    "plt.show()"
   ]
  },
  {
   "cell_type": "markdown",
   "id": "ad006921",
   "metadata": {},
   "source": [
    "Performing Linear Regression using `Scikit-learn` is simple"
   ]
  },
  {
   "cell_type": "code",
   "execution_count": 27,
   "id": "5de437f8",
   "metadata": {},
   "outputs": [
    {
     "data": {
      "text/plain": [
       "(array([3.69000636]), array([[3.19880542]]))"
      ]
     },
     "execution_count": 27,
     "metadata": {},
     "output_type": "execute_result"
    }
   ],
   "source": [
    "from sklearn.linear_model import LinearRegression\n",
    "\n",
    "lin_reg = LinearRegression()\n",
    "lin_reg.fit(x, y)  # no need to transform x\n",
    "\n",
    "lin_reg.intercept_, lin_reg.coef_"
   ]
  },
  {
   "cell_type": "code",
   "execution_count": 28,
   "id": "c555937c",
   "metadata": {},
   "outputs": [
    {
     "data": {
      "text/plain": [
       "array([[ 3.69000636],\n",
       "       [10.0876172 ]])"
      ]
     },
     "execution_count": 28,
     "metadata": {},
     "output_type": "execute_result"
    }
   ],
   "source": [
    "lin_reg.predict(x_new)"
   ]
  },
  {
   "cell_type": "markdown",
   "id": "02e9cb4f",
   "metadata": {},
   "source": [
    "The `LinearRegression` class is based on the `scipy.linalg.lstsq()` function"
   ]
  },
  {
   "cell_type": "code",
   "execution_count": 29,
   "id": "406db1e0",
   "metadata": {},
   "outputs": [
    {
     "data": {
      "text/plain": [
       "array([[3.69000636],\n",
       "       [3.19880542]])"
      ]
     },
     "execution_count": 29,
     "metadata": {},
     "output_type": "execute_result"
    }
   ],
   "source": [
    "theta_best_svd, residuals, rank, s = np.linalg.lstsq(x_b, y, rcond=1e-6)\n",
    "theta_best_svd"
   ]
  },
  {
   "cell_type": "markdown",
   "id": "fccaa56d",
   "metadata": {},
   "source": [
    "This function computes the *pseudoinverse* of X. You can compute it directly by"
   ]
  },
  {
   "cell_type": "code",
   "execution_count": 30,
   "id": "f5a51d4a",
   "metadata": {},
   "outputs": [
    {
     "data": {
      "text/plain": [
       "array([[3.69000636],\n",
       "       [3.19880542]])"
      ]
     },
     "execution_count": 30,
     "metadata": {},
     "output_type": "execute_result"
    }
   ],
   "source": [
    "np.linalg.pinv(x_b).dot(y)"
   ]
  },
  {
   "cell_type": "markdown",
   "id": "06f1b892",
   "metadata": {},
   "source": [
    "This approach based on *SVD decomposition* is more efficient than computing the Normal Equation, plus it handles edge cases nicely."
   ]
  },
  {
   "cell_type": "markdown",
   "id": "3dfd7508",
   "metadata": {},
   "source": [
    "### 2. Gradient Descent"
   ]
  },
  {
   "cell_type": "markdown",
   "id": "96202c3a",
   "metadata": {},
   "source": [
    "**Batch Gradient Descent**"
   ]
  },
  {
   "cell_type": "markdown",
   "id": "5f359173",
   "metadata": {},
   "source": [
    "A simple implementation"
   ]
  },
  {
   "cell_type": "code",
   "execution_count": 35,
   "id": "be7600da",
   "metadata": {},
   "outputs": [
    {
     "data": {
      "text/plain": [
       "array([[3.69000636],\n",
       "       [3.19880542]])"
      ]
     },
     "execution_count": 35,
     "metadata": {},
     "output_type": "execute_result"
    }
   ],
   "source": [
    "eta = 0.1  # learning rate\n",
    "n_iterations = 1000\n",
    "m = 100\n",
    "\n",
    "theta = np.random.randn(2, 1)  # random initialization\n",
    "\n",
    "for i in range(n_iterations):\n",
    "    gradients = 2/m * x_b.T.dot(x_b.dot(theta) - y)\n",
    "    theta -= eta * gradients\n",
    "\n",
    "theta"
   ]
  },
  {
   "cell_type": "markdown",
   "id": "319ef071",
   "metadata": {},
   "source": [
    "That's exactly the same as the Normal Equation found."
   ]
  },
  {
   "cell_type": "markdown",
   "id": "a60c3a61",
   "metadata": {},
   "source": [
    "**Stochastic Gradient Descent**"
   ]
  },
  {
   "cell_type": "markdown",
   "id": "a17fb63d",
   "metadata": {},
   "source": [
    "Randomness is good to escape from local minima, but bad because it means that the algorithm can never settle at the minimum. One solution is to gradually reduce the learning rate according to a *learning schedule*"
   ]
  },
  {
   "cell_type": "code",
   "execution_count": 39,
   "id": "13530337",
   "metadata": {},
   "outputs": [
    {
     "data": {
      "text/plain": [
       "array([[3.65551973],\n",
       "       [3.20185394]])"
      ]
     },
     "execution_count": 39,
     "metadata": {},
     "output_type": "execute_result"
    }
   ],
   "source": [
    "n_epochs = 50\n",
    "T0, T1 = 5, 50  # learning schedule hyperparameters\n",
    "\n",
    "def learning_schedule(t: float) -> float:\n",
    "    return T0 / (t + T1)\n",
    "\n",
    "theta = np. random.randn(2, 1)  # random initialization\n",
    "\n",
    "for epoch in range(n_epochs):\n",
    "    for i in range(m):\n",
    "        index = np.random.randint(m)\n",
    "        xi = x_b[index:index+1]\n",
    "        yi = y[index:index+1]\n",
    "        gradients = 2 * xi.T.dot(xi.dot(theta) - yi)\n",
    "        eta = learning_schedule(epoch * m + i)\n",
    "        theta -= eta * gradients\n",
    "\n",
    "theta"
   ]
  },
  {
   "cell_type": "markdown",
   "id": "978b3b58",
   "metadata": {},
   "source": [
    "Using `Scikit-learn`"
   ]
  },
  {
   "cell_type": "code",
   "execution_count": 40,
   "id": "a5dcbeaf",
   "metadata": {},
   "outputs": [
    {
     "data": {
      "text/plain": [
       "(array([3.76257664]), array([3.31319675]))"
      ]
     },
     "execution_count": 40,
     "metadata": {},
     "output_type": "execute_result"
    }
   ],
   "source": [
    "from sklearn.linear_model import SGDRegressor\n",
    "\n",
    "sgd_reg = SGDRegressor(max_iter=1000, tol=1e-3, penalty=None, eta0=1e-1)\n",
    "sgd_reg.fit(x, y.ravel())\n",
    "\n",
    "sgd_reg.intercept_, sgd_reg.coef_"
   ]
  },
  {
   "cell_type": "markdown",
   "id": "c53cb427",
   "metadata": {},
   "source": [
    "### 3. Polynomial Regression"
   ]
  },
  {
   "cell_type": "markdown",
   "id": "8dd91f5d",
   "metadata": {},
   "source": [
    "You can use a linear model to fit nonlinear data"
   ]
  },
  {
   "cell_type": "code",
   "execution_count": 41,
   "id": "9bccb194",
   "metadata": {},
   "outputs": [],
   "source": [
    "m = 100\n",
    "x = 6 * np.random.rand(m, 1) - 3\n",
    "y = 0.5 * x**2 + x + 2 + np.random.randn(m, 1)  # with Gaussian noise"
   ]
  },
  {
   "cell_type": "markdown",
   "id": "6b61ae12",
   "metadata": {},
   "source": [
    "Transform the training data, adding the square of each featur in the training set as a new feature"
   ]
  },
  {
   "cell_type": "code",
   "execution_count": 42,
   "id": "6c1e849a",
   "metadata": {},
   "outputs": [
    {
     "data": {
      "text/plain": [
       "(array([-1.62473381]), array([-1.62473381,  2.63975996]))"
      ]
     },
     "execution_count": 42,
     "metadata": {},
     "output_type": "execute_result"
    }
   ],
   "source": [
    "from sklearn.preprocessing import PolynomialFeatures\n",
    "\n",
    "poly_features = PolynomialFeatures(degree=2, include_bias=False)\n",
    "x_poly = poly_features.fit_transform(x)\n",
    "\n",
    "x[0], x_poly[0]"
   ]
  },
  {
   "cell_type": "markdown",
   "id": "cd193334",
   "metadata": {},
   "source": [
    "Now you can fit a `LinearRegression` model to this extended training data"
   ]
  },
  {
   "cell_type": "code",
   "execution_count": 45,
   "id": "599e328b",
   "metadata": {},
   "outputs": [
    {
     "data": {
      "text/plain": [
       "(array([1.99772724]), array([[0.94725317, 0.55838684]]))"
      ]
     },
     "execution_count": 45,
     "metadata": {},
     "output_type": "execute_result"
    }
   ],
   "source": [
    "lin_reg = LinearRegression()\n",
    "lin_reg.fit(x_poly, y)\n",
    "\n",
    "lin_reg.intercept_, lin_reg.coef_  # expected 2, 1, 0.5 "
   ]
  },
  {
   "cell_type": "code",
   "execution_count": 62,
   "id": "30ec98a2",
   "metadata": {},
   "outputs": [
    {
     "data": {
      "image/png": "[encoded data removed]",
      "text/plain": [
       "<Figure size 640x480 with 1 Axes>"
      ]
     },
     "metadata": {},
     "output_type": "display_data"
    }
   ],
   "source": [
    "plt.plot(x, y, 'b.', label='Data')\n",
    "\n",
    "t = np.linspace(-3, 3, num=50)\n",
    "THETA_0, (THETA_1, THETA_2) = lin_reg.intercept_, lin_reg.coef_[0]\n",
    "plt.plot(t,  THETA_0 + THETA_1 * t + THETA_2 * t**2, 'r-', label='Predictions')\n",
    "\n",
    "plt.axis([-3, 3, 0, 10]); plt.legend()\n",
    "plt.show()"
   ]
  },
  {
   "cell_type": "markdown",
   "id": "96af052e",
   "metadata": {},
   "source": [
    "`PolynomialFeatures` also adds combinations of features up to the given degree."
   ]
  },
  {
   "cell_type": "markdown",
   "id": "dd52774f",
   "metadata": {},
   "source": [
    "### 4. Learning Curve"
   ]
  }
 ],
 "metadata": {
  "kernelspec": {
   "display_name": "Python 3 (ipykernel)",
   "language": "python",
   "name": "python3"
  },
  "language_info": {
   "codemirror_mode": {
    "name": "ipython",
    "version": 3
   },
   "file_extension": ".py",
   "mimetype": "text/x-python",
   "name": "python",
   "nbconvert_exporter": "python",
   "pygments_lexer": "ipython3",
   "version": "3.8.6"
  }
 },
 "nbformat": 4,
 "nbformat_minor": 5
}
