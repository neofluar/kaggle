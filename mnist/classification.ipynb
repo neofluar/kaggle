{
 "cells": [
  {
   "cell_type": "markdown",
   "id": "99beb7a3",
   "metadata": {},
   "source": [
    "### MNIST Example"
   ]
  },
  {
   "cell_type": "code",
   "execution_count": 18,
   "id": "81fab921",
   "metadata": {},
   "outputs": [],
   "source": [
    "import matplotlib as mpl\n",
    "import matplotlib.pyplot as plt\n",
    "import numpy as np"
   ]
  },
  {
   "cell_type": "markdown",
   "id": "ae476f81",
   "metadata": {},
   "source": [
    "**Fetch the MNIST Dataset**"
   ]
  },
  {
   "cell_type": "markdown",
   "id": "d64be8f4",
   "metadata": {},
   "source": [
    "`Scikit-learn` provides many helper functions to download popular datasets. By default `Scikit-learn` caches downloaded datasets in a directory called `$HOME/scikit_learn_data`"
   ]
  },
  {
   "cell_type": "code",
   "execution_count": 11,
   "id": "3f55f79e",
   "metadata": {},
   "outputs": [
    {
     "data": {
      "text/plain": [
       "dict_keys(['data', 'target', 'frame', 'categories', 'feature_names', 'target_names', 'DESCR', 'details', 'url'])"
      ]
     },
     "execution_count": 11,
     "metadata": {},
     "output_type": "execute_result"
    }
   ],
   "source": [
    "from sklearn.datasets import fetch_openml\n",
    "\n",
    "mnist = fetch_openml('mnist_784', version=1, as_frame=False)\n",
    "mnist.keys()"
   ]
  },
  {
   "cell_type": "code",
   "execution_count": 12,
   "id": "0604a76c",
   "metadata": {},
   "outputs": [
    {
     "data": {
      "text/plain": [
       "((70000, 784), (70000,))"
      ]
     },
     "execution_count": 12,
     "metadata": {},
     "output_type": "execute_result"
    }
   ],
   "source": [
    "x, y = mnist['data'], mnist['target']\n",
    "x.shape, y.shape"
   ]
  },
  {
   "cell_type": "markdown",
   "id": "e4f7b3da",
   "metadata": {},
   "source": [
    "There are 70.000 images, and each image has 784 features (28x28 pixels)"
   ]
  },
  {
   "cell_type": "code",
   "execution_count": 24,
   "id": "38f5f1ea",
   "metadata": {
    "scrolled": true
   },
   "outputs": [
    {
     "data": {
      "image/png": "[encoded data removed]",
      "text/plain": [
       "<Figure size 640x480 with 1 Axes>"
      ]
     },
     "metadata": {},
     "output_type": "display_data"
    }
   ],
   "source": [
    "some_digit = x[0]\n",
    "digit_image = some_digit.reshape(28, 28)\n",
    "\n",
    "plt.imshow(digit_image, cmap='binary')\n",
    "plt.axis('off')\n",
    "plt.show()"
   ]
  },
  {
   "cell_type": "markdown",
   "id": "768f1115",
   "metadata": {},
   "source": [
    "The label is"
   ]
  },
  {
   "cell_type": "code",
   "execution_count": 16,
   "id": "dc3552e8",
   "metadata": {},
   "outputs": [
    {
     "data": {
      "text/plain": [
       "'5'"
      ]
     },
     "execution_count": 16,
     "metadata": {},
     "output_type": "execute_result"
    }
   ],
   "source": [
    "y[0]"
   ]
  },
  {
   "cell_type": "markdown",
   "id": "d16574e0",
   "metadata": {},
   "source": [
    "Cast stings into numerical values"
   ]
  },
  {
   "cell_type": "code",
   "execution_count": 19,
   "id": "fb1c1065",
   "metadata": {},
   "outputs": [],
   "source": [
    "y = y.astype(np.uint8)"
   ]
  },
  {
   "cell_type": "markdown",
   "id": "e3566b84",
   "metadata": {},
   "source": [
    "Create a test set: the MNIST dataset is actually already split into a training set (the first 60.000 images) and a test set (the last 10.000 images). The training set is also already shuffled."
   ]
  },
  {
   "cell_type": "code",
   "execution_count": 21,
   "id": "147c7fa6",
   "metadata": {},
   "outputs": [],
   "source": [
    "_SPLIT = 60000\n",
    "x_train, x_test, y_train, y_test = x[:_SPLIT], x[_SPLIT:], y[:_SPLIT], y[_SPLIT:]"
   ]
  },
  {
   "cell_type": "markdown",
   "id": "b2138429",
   "metadata": {},
   "source": [
    "**Train a Binary Classifier**"
   ]
  },
  {
   "cell_type": "markdown",
   "id": "b7c9675a",
   "metadata": {},
   "source": [
    "Let's simplify the problem now and try to build \"5-detector\""
   ]
  },
  {
   "cell_type": "code",
   "execution_count": 23,
   "id": "45b449e9",
   "metadata": {},
   "outputs": [],
   "source": [
    "y_train_5 = y_train == 5\n",
    "y_test_5 = y_test == 5"
   ]
  },
  {
   "cell_type": "markdown",
   "id": "8cc41346",
   "metadata": {},
   "source": [
    "A good place to start is with a *Stochastic Gradient Descent* classifier"
   ]
  },
  {
   "cell_type": "code",
   "execution_count": 25,
   "id": "36136ece",
   "metadata": {},
   "outputs": [
    {
     "data": {
      "text/plain": [
       "array([ True])"
      ]
     },
     "execution_count": 25,
     "metadata": {},
     "output_type": "execute_result"
    }
   ],
   "source": [
    "from sklearn.linear_model import SGDClassifier\n",
    "\n",
    "sgd_clf = SGDClassifier(random_state=42)\n",
    "sgd_clf.fit(x_train, y_train_5)\n",
    "\n",
    "sgd_clf.predict([some_digit])"
   ]
  },
  {
   "cell_type": "markdown",
   "id": "9b889b8e",
   "metadata": {},
   "source": [
    "Evaluate our model"
   ]
  },
  {
   "cell_type": "code",
   "execution_count": 26,
   "id": "6ae71ac1",
   "metadata": {},
   "outputs": [
    {
     "data": {
      "text/plain": [
       "array([0.95035, 0.96035, 0.9604 ])"
      ]
     },
     "execution_count": 26,
     "metadata": {},
     "output_type": "execute_result"
    }
   ],
   "source": [
    "from sklearn.model_selection import cross_val_score\n",
    "\n",
    "cross_val_score(sgd_clf, x_train, y_train_5, cv=3, scoring='accuracy')"
   ]
  },
  {
   "cell_type": "markdown",
   "id": "7b4f7d65",
   "metadata": {},
   "source": [
    "Looks nice, or is it? Let's have a look at a *Constant* model for comparison"
   ]
  },
  {
   "cell_type": "code",
   "execution_count": 27,
   "id": "f5f8c598",
   "metadata": {},
   "outputs": [
    {
     "data": {
      "text/plain": [
       "array([0.91125, 0.90855, 0.90915])"
      ]
     },
     "execution_count": 27,
     "metadata": {},
     "output_type": "execute_result"
    }
   ],
   "source": [
    "from sklearn.base import BaseEstimator\n",
    "\n",
    "\n",
    "class Never5Classifier(BaseEstimator):\n",
    "    \n",
    "    def fit(self, _: np.ndarray, y: np.ndarray) -> 'Never5Classifier':\n",
    "        return self\n",
    "    \n",
    "    def predict(self, x: np.ndarray) -> np.ndarray:\n",
    "        return np.zeros((len(x), 1), dtype=bool)\n",
    "\n",
    "    \n",
    "never_5_clf = Never5Classifier()\n",
    "cross_val_score(never_5_clf, x_train, y_train_5, cv=3, scoring='accuracy')"
   ]
  },
  {
   "cell_type": "markdown",
   "id": "cced6818",
   "metadata": {},
   "source": [
    "This demonstrates why accuracy is generally not the preffered performance measure for classifiers, especially when you are dealing with a *skewed dataset*."
   ]
  },
  {
   "cell_type": "markdown",
   "id": "bd3d0ebf",
   "metadata": {},
   "source": [
    "**Confusion Matrix**"
   ]
  },
  {
   "cell_type": "markdown",
   "id": "09c0680c",
   "metadata": {},
   "source": [
    "Get the labels for each image using cross validation"
   ]
  },
  {
   "cell_type": "code",
   "execution_count": 28,
   "id": "75ca2104",
   "metadata": {},
   "outputs": [],
   "source": [
    "from sklearn.model_selection import cross_val_predict\n",
    "\n",
    "y_train_pred = cross_val_predict(sgd_clf, x_train, y_train_5, cv=3)"
   ]
  },
  {
   "cell_type": "markdown",
   "id": "89b2664a",
   "metadata": {},
   "source": [
    "Get the confusion matrix"
   ]
  },
  {
   "cell_type": "code",
   "execution_count": 29,
   "id": "4e0aedcb",
   "metadata": {},
   "outputs": [
    {
     "data": {
      "text/plain": [
       "array([[53892,   687],\n",
       "       [ 1891,  3530]])"
      ]
     },
     "execution_count": 29,
     "metadata": {},
     "output_type": "execute_result"
    }
   ],
   "source": [
    "from sklearn.metrics import confusion_matrix\n",
    "\n",
    "confusion_matrix(y_train_5, y_train_pred)"
   ]
  },
  {
   "cell_type": "markdown",
   "id": "10bb1a0c",
   "metadata": {},
   "source": [
    "Each row in the matrix represents an *actual* class, while each column represents a *predicted* class. The first row considers non-5 images (the *negative* class):\n",
    "\n",
    "|  | Predicted not-5 | Predicted 5 |\n",
    "| --- | --- | --- |\n",
    "| **Actual not-5** | TN  | FP  |\n",
    "| **Actual 5** | FN  | TP  |\n",
    "\n",
    "A perfect classifier would have onlu true positives and true negatives, so its confusion matrix would looks like"
   ]
  },
  {
   "cell_type": "code",
   "execution_count": 30,
   "id": "0fc74a65",
   "metadata": {},
   "outputs": [
    {
     "data": {
      "text/plain": [
       "array([[54579,     0],\n",
       "       [    0,  5421]])"
      ]
     },
     "execution_count": 30,
     "metadata": {},
     "output_type": "execute_result"
    }
   ],
   "source": [
    "y_train_perfect_predictions = y_train_5\n",
    "confusion_matrix(y_train_5, y_train_perfect_predictions)"
   ]
  },
  {
   "cell_type": "markdown",
   "id": "badad0d2",
   "metadata": {},
   "source": [
    "**Precision and Recall**"
   ]
  },
  {
   "cell_type": "code",
   "execution_count": 31,
   "id": "0d9b6c1d",
   "metadata": {},
   "outputs": [
    {
     "data": {
      "text/plain": [
       "(0.8370879772350012, 0.6511713705958311)"
      ]
     },
     "execution_count": 31,
     "metadata": {},
     "output_type": "execute_result"
    }
   ],
   "source": [
    "from sklearn.metrics import precision_score, recall_score\n",
    "\n",
    "precision_score(y_train_5, y_train_pred), recall_score(y_train_5, y_train_pred)"
   ]
  },
  {
   "cell_type": "markdown",
   "id": "8a8ff812",
   "metadata": {},
   "source": [
    "When the model claims an image represents a 5, it is correct only 83.7% of the time. Moreover, it only detects 65.1% of the 5s."
   ]
  },
  {
   "cell_type": "code",
   "execution_count": 32,
   "id": "a135144b",
   "metadata": {},
   "outputs": [
    {
     "data": {
      "text/plain": [
       "0.7325171197343846"
      ]
     },
     "execution_count": 32,
     "metadata": {},
     "output_type": "execute_result"
    }
   ],
   "source": [
    "from sklearn.metrics import f1_score\n",
    "\n",
    "f1_score(y_train_5, y_train_pred)"
   ]
  },
  {
   "cell_type": "markdown",
   "id": "59784266",
   "metadata": {},
   "source": [
    "**Precision/Recall Trade-off**"
   ]
  },
  {
   "cell_type": "markdown",
   "id": "f12931ce",
   "metadata": {},
   "source": [
    "Increasing precision reduces recall, and vice versa. The key concept is a moving decision threshold. Increasing the threshold increases precision and reduces recall. Conversely, lowering the threshold increases recall and reduses precision. We can observe it by controling the threshold manualy."
   ]
  },
  {
   "cell_type": "code",
   "execution_count": 33,
   "id": "2d2ae6d6",
   "metadata": {},
   "outputs": [
    {
     "data": {
      "text/plain": [
       "array([2164.22030239])"
      ]
     },
     "execution_count": 33,
     "metadata": {},
     "output_type": "execute_result"
    }
   ],
   "source": [
    "y_scores = sgd_clf.decision_function([some_digit])\n",
    "y_scores"
   ]
  },
  {
   "cell_type": "code",
   "execution_count": 37,
   "id": "0cb4702d",
   "metadata": {},
   "outputs": [
    {
     "name": "stdout",
     "output_type": "stream",
     "text": [
      "0 [ True]\n",
      "8000 [False]\n"
     ]
    }
   ],
   "source": [
    "for threshold in (0, 8000):\n",
    "    y_some_digit_pred = y_scores > threshold\n",
    "    print(threshold, y_some_digit_pred)"
   ]
  },
  {
   "cell_type": "markdown",
   "id": "cf2f36be",
   "metadata": {},
   "source": [
    "How do you decide which treshold to use? First, get the scores of all samples in the training set"
   ]
  },
  {
   "cell_type": "code",
   "execution_count": 38,
   "id": "1d2c0ace",
   "metadata": {},
   "outputs": [],
   "source": [
    "y_scores = cross_val_predict(sgd_clf, x_train, y_train_5, cv=3, method='decision_function')"
   ]
  },
  {
   "cell_type": "markdown",
   "id": "aaa35d40",
   "metadata": {},
   "source": [
    "Compute precision and recall for all possible thresholds"
   ]
  },
  {
   "cell_type": "code",
   "execution_count": 40,
   "id": "e2c3c423",
   "metadata": {},
   "outputs": [],
   "source": [
    "from sklearn.metrics import precision_recall_curve\n",
    "\n",
    "precisions, recalls, thresholds = precision_recall_curve(y_train_5, y_scores)"
   ]
  },
  {
   "cell_type": "markdown",
   "id": "c4765d8c",
   "metadata": {},
   "source": [
    "And plot it"
   ]
  },
  {
   "cell_type": "code",
   "execution_count": 53,
   "id": "0c665a8d",
   "metadata": {},
   "outputs": [
    {
     "data": {
      "image/png": "[encoded data removed]",
      "text/plain": [
       "<Figure size 640x480 with 1 Axes>"
      ]
     },
     "metadata": {},
     "output_type": "display_data"
    }
   ],
   "source": [
    "def plot_precision_recall_vs_threshold(precisions, recalls, thresholds):\n",
    "    plt.plot(thresholds, precisions[:-1], 'b--', label='Precision')\n",
    "    plt.plot(thresholds, recalls[:-1], 'g-', label='Recall')\n",
    "    plt.xlabel('Threshold')\n",
    "    plt.xlim(-40000, 40000)\n",
    "    plt.ylim(0, 1)\n",
    "    plt.legend()\n",
    "    plt.grid()\n",
    "\n",
    "plot_precision_recall_vs_threshold(precisions, recalls, thresholds)\n",
    "plt.show()"
   ]
  },
  {
   "cell_type": "markdown",
   "id": "9eba2fde",
   "metadata": {},
   "source": [
    "Another way to select a good precision/recall trade-off is to plot precision directly against recall"
   ]
  },
  {
   "cell_type": "code",
   "execution_count": 54,
   "id": "54e6bfe0",
   "metadata": {},
   "outputs": [
    {
     "data": {
      "image/png": "[encoded data removed]",
      "text/plain": [
       "<Figure size 640x480 with 1 Axes>"
      ]
     },
     "metadata": {},
     "output_type": "display_data"
    }
   ],
   "source": [
    "plt.plot(recalls[:-1], precisions[:-1], 'b-')\n",
    "plt.xlabel('Recall')\n",
    "plt.ylabel('Precision')\n",
    "plt.xlim(0, 1)\n",
    "plt.ylim(0, 1)\n",
    "plt.grid()\n",
    "plt.show()"
   ]
  },
  {
   "cell_type": "markdown",
   "id": "857cf92b",
   "metadata": {},
   "source": [
    "Suppose you decide to aim for 90% precision. You can search for the lowest threshold that gives you at least 90%% precision:"
   ]
  },
  {
   "cell_type": "code",
   "execution_count": 55,
   "id": "2eb90728",
   "metadata": {},
   "outputs": [
    {
     "data": {
      "text/plain": [
       "3370.0194991439557"
      ]
     },
     "execution_count": 55,
     "metadata": {},
     "output_type": "execute_result"
    }
   ],
   "source": [
    "threshold_90_precision = thresholds[np.argmax(precisions >= 0.9)]\n",
    "threshold_90_precision"
   ]
  },
  {
   "cell_type": "code",
   "execution_count": 56,
   "id": "32fff0b4",
   "metadata": {},
   "outputs": [
    {
     "data": {
      "text/plain": [
       "(0.9000345901072293, 0.4799852425751706)"
      ]
     },
     "execution_count": 56,
     "metadata": {},
     "output_type": "execute_result"
    }
   ],
   "source": [
    "y_train_pred_90 = y_scores >= threshold_90_precision\n",
    "precision_score(y_train_5, y_train_pred_90), recall_score(y_train_5, y_train_pred_90)"
   ]
  },
  {
   "cell_type": "markdown",
   "id": "b643f9a0",
   "metadata": {},
   "source": [
    "A high-precision classifier is not very usefull if its recall is too low."
   ]
  }
 ],
 "metadata": {
  "kernelspec": {
   "display_name": "Python 3 (ipykernel)",
   "language": "python",
   "name": "python3"
  },
  "language_info": {
   "codemirror_mode": {
    "name": "ipython",
    "version": 3
   },
   "file_extension": ".py",
   "mimetype": "text/x-python",
   "name": "python",
   "nbconvert_exporter": "python",
   "pygments_lexer": "ipython3",
   "version": "3.8.6"
  }
 },
 "nbformat": 4,
 "nbformat_minor": 5
}
